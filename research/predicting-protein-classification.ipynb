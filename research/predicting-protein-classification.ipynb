{
 "cells": [
  {
   "cell_type": "markdown",
   "metadata": {
    "_cell_guid": "b1076dfc-b9ad-4769-8c92-a6c4dae69d19",
    "_uuid": "8f2839f25d086af736a60e9eeb907d3b93b6e0e5"
   },
   "source": [
    "# Introduction\n",
    "\n",
    "## Background\n",
    "The dataset consists of many different types of macromolecules of biological signifiance. The majority of the data records are of proteins. With DNA being the precursor to RNA, which when translated, proteins are the biomolecules that are directly interacting in biological pathways and cycles. Proteins are usually centered around one or a few job which is defined by their family type. For example, we can have a protein that is from a Hydrolase group, which focuses on catalyzing hydrolysis (breaking bonds by adding water) in order to help promote destruction of chains of proteins, or other molecules. Another example would be a protein that is a transport protein, which allows other molecules such as sucrose, fructose, or even water come in and outside of the cell. \n",
    "\n",
    "## Goals\n",
    "With these proteins having different family types, a question arises if it's possible to determine a protein's family type based on sequence. There are notable search engines such as BLAST which has this capability, but it'd be interesting to see if a machine learning approach can do a good job in classifying a protein's family based on the protein sequence.\n",
    "\n",
    "### 1). Import Dataset\n",
    "* Data source/kernel (from PDB): https://www.kaggle.com/shahir/protein-data-set "
   ]
  },
  {
   "cell_type": "code",
   "execution_count": 1,
   "metadata": {
    "_cell_guid": "79c7e3d0-c299-4dcb-8224-4455121ee9b0",
    "_uuid": "d629ff2d2480ee46fbb7e2d37f6b5fab8052498a",
    "execution": {
     "iopub.execute_input": "2023-02-06T20:54:42.381913Z",
     "iopub.status.busy": "2023-02-06T20:54:42.381291Z",
     "iopub.status.idle": "2023-02-06T20:54:48.156542Z",
     "shell.execute_reply": "2023-02-06T20:54:48.155808Z",
     "shell.execute_reply.started": "2023-02-06T20:54:42.381838Z"
    }
   },
   "outputs": [
    {
     "name": "stdout",
     "output_type": "stream",
     "text": [
      "Datasets have been loaded...\n"
     ]
    }
   ],
   "source": [
    "# 1). ----- Import Libraries and Datasets ------\n",
    "\n",
    "import pandas as pd\n",
    "import numpy as np\n",
    "from matplotlib import pyplot as plt\n",
    "import seaborn as sns\n",
    "from sklearn.feature_extraction.text import CountVectorizer\n",
    "from sklearn.model_selection import train_test_split\n",
    "from sklearn.metrics import accuracy_score, confusion_matrix, classification_report\n",
    "\n",
    "\n",
    "# Import Datasets\n",
    "df_seq = pd.read_csv('../input/pdb_data_seq.csv')\n",
    "df_char = pd.read_csv('../input/pdb_data_no_dups.csv')\n",
    "\n",
    "print('Datasets have been loaded...')"
   ]
  },
  {
   "cell_type": "markdown",
   "metadata": {
    "_cell_guid": "3104edfa-9226-4e08-ab18-5dde3ea134c5",
    "_uuid": "25cb3515e7b4bffd01e569c29e2bd2335c24975b"
   },
   "source": [
    "### 2) Filter and Process Data\n",
    "With the data loaded into two seperate pandas dataframes, a filter, project, and a join must be performed to get the data together. A good library here to check out is the dfply, which is similar to the dplyr library from R. Nevertheless, pandas offers a way to perform these SQL-like commands. Begin by first filtering the datasets where the classification is equal to 'Protein', followed by removing all other variables  other than structureId and sequence for the data_seq_csv, and structureId and classification in the no_dups dataset."
   ]
  },
  {
   "cell_type": "code",
   "execution_count": 2,
   "metadata": {
    "_cell_guid": "0c35672e-2016-4ad7-9e00-a255a3014189",
    "_uuid": "bacb00012c98fcf2980d1050b4b7da4a1fe77756",
    "execution": {
     "iopub.execute_input": "2023-02-06T20:54:48.157898Z",
     "iopub.status.busy": "2023-02-06T20:54:48.157510Z",
     "iopub.status.idle": "2023-02-06T20:54:48.250312Z",
     "shell.execute_reply": "2023-02-06T20:54:48.249764Z",
     "shell.execute_reply.started": "2023-02-06T20:54:48.157852Z"
    }
   },
   "outputs": [],
   "source": [
    "# 2). ----- Filter and Process Dataset ------\n",
    "\n",
    "# Filter for only proteins\n",
    "protein_char = df_char[df_char.macromoleculeType == 'Protein']\n",
    "protein_seq = df_seq[df_seq.macromoleculeType == 'Protein']"
   ]
  },
  {
   "cell_type": "code",
   "execution_count": 3,
   "metadata": {
    "_cell_guid": "fb2dc353-1ea1-48a8-bbdf-db4097c1edaf",
    "_uuid": "fbbd1de5dad5ce56b8c9c7f962ae9ad7bdec1da2",
    "execution": {
     "iopub.execute_input": "2023-02-06T20:54:48.251668Z",
     "iopub.status.busy": "2023-02-06T20:54:48.251267Z",
     "iopub.status.idle": "2023-02-06T20:54:48.282066Z",
     "shell.execute_reply": "2023-02-06T20:54:48.281010Z",
     "shell.execute_reply.started": "2023-02-06T20:54:48.251625Z"
    }
   },
   "outputs": [
    {
     "data": {
      "text/html": [
       "<div>\n",
       "<style scoped>\n",
       "    .dataframe tbody tr th:only-of-type {\n",
       "        vertical-align: middle;\n",
       "    }\n",
       "\n",
       "    .dataframe tbody tr th {\n",
       "        vertical-align: top;\n",
       "    }\n",
       "\n",
       "    .dataframe thead th {\n",
       "        text-align: right;\n",
       "    }\n",
       "</style>\n",
       "<table border=\"1\" class=\"dataframe\">\n",
       "  <thead>\n",
       "    <tr style=\"text-align: right;\">\n",
       "      <th></th>\n",
       "      <th>structureId</th>\n",
       "      <th>classification</th>\n",
       "      <th>experimentalTechnique</th>\n",
       "      <th>macromoleculeType</th>\n",
       "      <th>residueCount</th>\n",
       "      <th>resolution</th>\n",
       "      <th>structureMolecularWeight</th>\n",
       "      <th>crystallizationMethod</th>\n",
       "      <th>crystallizationTempK</th>\n",
       "      <th>densityMatthews</th>\n",
       "      <th>densityPercentSol</th>\n",
       "      <th>pdbxDetails</th>\n",
       "      <th>phValue</th>\n",
       "      <th>publicationYear</th>\n",
       "    </tr>\n",
       "  </thead>\n",
       "  <tbody>\n",
       "    <tr>\n",
       "      <th>2</th>\n",
       "      <td>101M</td>\n",
       "      <td>OXYGEN TRANSPORT</td>\n",
       "      <td>X-RAY DIFFRACTION</td>\n",
       "      <td>Protein</td>\n",
       "      <td>154</td>\n",
       "      <td>2.07</td>\n",
       "      <td>18112.80</td>\n",
       "      <td>NaN</td>\n",
       "      <td>NaN</td>\n",
       "      <td>3.09</td>\n",
       "      <td>60.20</td>\n",
       "      <td>3.0 M AMMONIUM SULFATE, 20 MM TRIS, 1MM EDTA, ...</td>\n",
       "      <td>9.0</td>\n",
       "      <td>1999.0</td>\n",
       "    </tr>\n",
       "    <tr>\n",
       "      <th>4</th>\n",
       "      <td>102L</td>\n",
       "      <td>HYDROLASE(O-GLYCOSYL)</td>\n",
       "      <td>X-RAY DIFFRACTION</td>\n",
       "      <td>Protein</td>\n",
       "      <td>165</td>\n",
       "      <td>1.74</td>\n",
       "      <td>18926.61</td>\n",
       "      <td>NaN</td>\n",
       "      <td>NaN</td>\n",
       "      <td>2.75</td>\n",
       "      <td>55.28</td>\n",
       "      <td>NaN</td>\n",
       "      <td>NaN</td>\n",
       "      <td>1993.0</td>\n",
       "    </tr>\n",
       "    <tr>\n",
       "      <th>5</th>\n",
       "      <td>102M</td>\n",
       "      <td>OXYGEN TRANSPORT</td>\n",
       "      <td>X-RAY DIFFRACTION</td>\n",
       "      <td>Protein</td>\n",
       "      <td>154</td>\n",
       "      <td>1.84</td>\n",
       "      <td>18010.64</td>\n",
       "      <td>NaN</td>\n",
       "      <td>NaN</td>\n",
       "      <td>3.09</td>\n",
       "      <td>60.20</td>\n",
       "      <td>3.0 M AMMONIUM SULFATE, 20 MM TRIS, 1MM EDTA, ...</td>\n",
       "      <td>9.0</td>\n",
       "      <td>1999.0</td>\n",
       "    </tr>\n",
       "    <tr>\n",
       "      <th>7</th>\n",
       "      <td>103L</td>\n",
       "      <td>HYDROLASE(O-GLYCOSYL)</td>\n",
       "      <td>X-RAY DIFFRACTION</td>\n",
       "      <td>Protein</td>\n",
       "      <td>167</td>\n",
       "      <td>1.90</td>\n",
       "      <td>19092.72</td>\n",
       "      <td>NaN</td>\n",
       "      <td>NaN</td>\n",
       "      <td>2.70</td>\n",
       "      <td>54.46</td>\n",
       "      <td>NaN</td>\n",
       "      <td>NaN</td>\n",
       "      <td>1993.0</td>\n",
       "    </tr>\n",
       "    <tr>\n",
       "      <th>8</th>\n",
       "      <td>103M</td>\n",
       "      <td>OXYGEN TRANSPORT</td>\n",
       "      <td>X-RAY DIFFRACTION</td>\n",
       "      <td>Protein</td>\n",
       "      <td>154</td>\n",
       "      <td>2.07</td>\n",
       "      <td>18093.78</td>\n",
       "      <td>NaN</td>\n",
       "      <td>NaN</td>\n",
       "      <td>3.09</td>\n",
       "      <td>60.30</td>\n",
       "      <td>3.0 M AMMONIUM SULFATE, 20 MM TRIS, 1MM EDTA, ...</td>\n",
       "      <td>9.0</td>\n",
       "      <td>1999.0</td>\n",
       "    </tr>\n",
       "  </tbody>\n",
       "</table>\n",
       "</div>"
      ],
      "text/plain": [
       "  structureId         classification experimentalTechnique macromoleculeType  \\\n",
       "2        101M       OXYGEN TRANSPORT     X-RAY DIFFRACTION           Protein   \n",
       "4        102L  HYDROLASE(O-GLYCOSYL)     X-RAY DIFFRACTION           Protein   \n",
       "5        102M       OXYGEN TRANSPORT     X-RAY DIFFRACTION           Protein   \n",
       "7        103L  HYDROLASE(O-GLYCOSYL)     X-RAY DIFFRACTION           Protein   \n",
       "8        103M       OXYGEN TRANSPORT     X-RAY DIFFRACTION           Protein   \n",
       "\n",
       "   residueCount  resolution  structureMolecularWeight crystallizationMethod  \\\n",
       "2           154        2.07                  18112.80                   NaN   \n",
       "4           165        1.74                  18926.61                   NaN   \n",
       "5           154        1.84                  18010.64                   NaN   \n",
       "7           167        1.90                  19092.72                   NaN   \n",
       "8           154        2.07                  18093.78                   NaN   \n",
       "\n",
       "   crystallizationTempK  densityMatthews  densityPercentSol  \\\n",
       "2                   NaN             3.09              60.20   \n",
       "4                   NaN             2.75              55.28   \n",
       "5                   NaN             3.09              60.20   \n",
       "7                   NaN             2.70              54.46   \n",
       "8                   NaN             3.09              60.30   \n",
       "\n",
       "                                         pdbxDetails  phValue  publicationYear  \n",
       "2  3.0 M AMMONIUM SULFATE, 20 MM TRIS, 1MM EDTA, ...      9.0           1999.0  \n",
       "4                                                NaN      NaN           1993.0  \n",
       "5  3.0 M AMMONIUM SULFATE, 20 MM TRIS, 1MM EDTA, ...      9.0           1999.0  \n",
       "7                                                NaN      NaN           1993.0  \n",
       "8  3.0 M AMMONIUM SULFATE, 20 MM TRIS, 1MM EDTA, ...      9.0           1999.0  "
      ]
     },
     "execution_count": 3,
     "metadata": {},
     "output_type": "execute_result"
    }
   ],
   "source": [
    "protein_char.head()"
   ]
  },
  {
   "cell_type": "code",
   "execution_count": 4,
   "metadata": {
    "_cell_guid": "2969e363-aa42-463b-8b9f-d288f2e64509",
    "_uuid": "c59766be2276188acf938a9f1c147005a1089d54",
    "execution": {
     "iopub.execute_input": "2023-02-06T20:54:48.283755Z",
     "iopub.status.busy": "2023-02-06T20:54:48.283436Z",
     "iopub.status.idle": "2023-02-06T20:54:48.303795Z",
     "shell.execute_reply": "2023-02-06T20:54:48.302714Z",
     "shell.execute_reply.started": "2023-02-06T20:54:48.283705Z"
    },
    "scrolled": true
   },
   "outputs": [
    {
     "data": {
      "text/html": [
       "<div>\n",
       "<style scoped>\n",
       "    .dataframe tbody tr th:only-of-type {\n",
       "        vertical-align: middle;\n",
       "    }\n",
       "\n",
       "    .dataframe tbody tr th {\n",
       "        vertical-align: top;\n",
       "    }\n",
       "\n",
       "    .dataframe thead th {\n",
       "        text-align: right;\n",
       "    }\n",
       "</style>\n",
       "<table border=\"1\" class=\"dataframe\">\n",
       "  <thead>\n",
       "    <tr style=\"text-align: right;\">\n",
       "      <th></th>\n",
       "      <th>structureId</th>\n",
       "      <th>chainId</th>\n",
       "      <th>sequence</th>\n",
       "      <th>residueCount</th>\n",
       "      <th>macromoleculeType</th>\n",
       "    </tr>\n",
       "  </thead>\n",
       "  <tbody>\n",
       "    <tr>\n",
       "      <th>4</th>\n",
       "      <td>101M</td>\n",
       "      <td>A</td>\n",
       "      <td>MVLSEGEWQLVLHVWAKVEADVAGHGQDILIRLFKSHPETLEKFDR...</td>\n",
       "      <td>154</td>\n",
       "      <td>Protein</td>\n",
       "    </tr>\n",
       "    <tr>\n",
       "      <th>7</th>\n",
       "      <td>102L</td>\n",
       "      <td>A</td>\n",
       "      <td>MNIFEMLRIDEGLRLKIYKDTEGYYTIGIGHLLTKSPSLNAAAKSE...</td>\n",
       "      <td>165</td>\n",
       "      <td>Protein</td>\n",
       "    </tr>\n",
       "    <tr>\n",
       "      <th>8</th>\n",
       "      <td>102M</td>\n",
       "      <td>A</td>\n",
       "      <td>MVLSEGEWQLVLHVWAKVEADVAGHGQDILIRLFKSHPETLEKFDR...</td>\n",
       "      <td>154</td>\n",
       "      <td>Protein</td>\n",
       "    </tr>\n",
       "    <tr>\n",
       "      <th>11</th>\n",
       "      <td>103L</td>\n",
       "      <td>A</td>\n",
       "      <td>MNIFEMLRIDEGLRLKIYKDTEGYYTIGIGHLLTKSPSLNSLDAAK...</td>\n",
       "      <td>167</td>\n",
       "      <td>Protein</td>\n",
       "    </tr>\n",
       "    <tr>\n",
       "      <th>12</th>\n",
       "      <td>103M</td>\n",
       "      <td>A</td>\n",
       "      <td>MVLSEGEWQLVLHVWAKVEADVAGHGQDILIRLFKSHPETLEKFDR...</td>\n",
       "      <td>154</td>\n",
       "      <td>Protein</td>\n",
       "    </tr>\n",
       "  </tbody>\n",
       "</table>\n",
       "</div>"
      ],
      "text/plain": [
       "   structureId chainId                                           sequence  \\\n",
       "4         101M       A  MVLSEGEWQLVLHVWAKVEADVAGHGQDILIRLFKSHPETLEKFDR...   \n",
       "7         102L       A  MNIFEMLRIDEGLRLKIYKDTEGYYTIGIGHLLTKSPSLNAAAKSE...   \n",
       "8         102M       A  MVLSEGEWQLVLHVWAKVEADVAGHGQDILIRLFKSHPETLEKFDR...   \n",
       "11        103L       A  MNIFEMLRIDEGLRLKIYKDTEGYYTIGIGHLLTKSPSLNSLDAAK...   \n",
       "12        103M       A  MVLSEGEWQLVLHVWAKVEADVAGHGQDILIRLFKSHPETLEKFDR...   \n",
       "\n",
       "    residueCount macromoleculeType  \n",
       "4            154           Protein  \n",
       "7            165           Protein  \n",
       "8            154           Protein  \n",
       "11           167           Protein  \n",
       "12           154           Protein  "
      ]
     },
     "execution_count": 4,
     "metadata": {},
     "output_type": "execute_result"
    }
   ],
   "source": [
    "protein_seq.head()"
   ]
  },
  {
   "cell_type": "code",
   "execution_count": 5,
   "metadata": {
    "_cell_guid": "a972037a-488e-4e0d-b829-9ce2cc5a6a9e",
    "_uuid": "05d8ed08aeca29e9dc5c6b7270f9c7200c8975a9",
    "execution": {
     "iopub.execute_input": "2023-02-06T20:54:48.306157Z",
     "iopub.status.busy": "2023-02-06T20:54:48.305443Z",
     "iopub.status.idle": "2023-02-06T20:54:48.862815Z",
     "shell.execute_reply": "2023-02-06T20:54:48.862271Z",
     "shell.execute_reply.started": "2023-02-06T20:54:48.306071Z"
    }
   },
   "outputs": [
    {
     "data": {
      "text/html": [
       "<div>\n",
       "<style scoped>\n",
       "    .dataframe tbody tr th:only-of-type {\n",
       "        vertical-align: middle;\n",
       "    }\n",
       "\n",
       "    .dataframe tbody tr th {\n",
       "        vertical-align: top;\n",
       "    }\n",
       "\n",
       "    .dataframe thead th {\n",
       "        text-align: right;\n",
       "    }\n",
       "</style>\n",
       "<table border=\"1\" class=\"dataframe\">\n",
       "  <thead>\n",
       "    <tr style=\"text-align: right;\">\n",
       "      <th></th>\n",
       "      <th>structureId</th>\n",
       "      <th>chainId</th>\n",
       "      <th>sequence</th>\n",
       "      <th>residueCount</th>\n",
       "      <th>macromoleculeType</th>\n",
       "    </tr>\n",
       "  </thead>\n",
       "  <tbody>\n",
       "    <tr>\n",
       "      <th>count</th>\n",
       "      <td>345180</td>\n",
       "      <td>345178</td>\n",
       "      <td>345177</td>\n",
       "      <td>345180.000000</td>\n",
       "      <td>345180</td>\n",
       "    </tr>\n",
       "    <tr>\n",
       "      <th>unique</th>\n",
       "      <td>127387</td>\n",
       "      <td>2348</td>\n",
       "      <td>89083</td>\n",
       "      <td>NaN</td>\n",
       "      <td>1</td>\n",
       "    </tr>\n",
       "    <tr>\n",
       "      <th>top</th>\n",
       "      <td>3J3Q</td>\n",
       "      <td>A</td>\n",
       "      <td>PIVQNLQGQMVHQAISPRTLNAWVKVVEEKAFSPEVIPMFSALSEG...</td>\n",
       "      <td>NaN</td>\n",
       "      <td>Protein</td>\n",
       "    </tr>\n",
       "    <tr>\n",
       "      <th>freq</th>\n",
       "      <td>1356</td>\n",
       "      <td>123105</td>\n",
       "      <td>2580</td>\n",
       "      <td>NaN</td>\n",
       "      <td>345180</td>\n",
       "    </tr>\n",
       "    <tr>\n",
       "      <th>mean</th>\n",
       "      <td>NaN</td>\n",
       "      <td>NaN</td>\n",
       "      <td>NaN</td>\n",
       "      <td>4717.870508</td>\n",
       "      <td>NaN</td>\n",
       "    </tr>\n",
       "    <tr>\n",
       "      <th>std</th>\n",
       "      <td>NaN</td>\n",
       "      <td>NaN</td>\n",
       "      <td>NaN</td>\n",
       "      <td>26527.126728</td>\n",
       "      <td>NaN</td>\n",
       "    </tr>\n",
       "    <tr>\n",
       "      <th>min</th>\n",
       "      <td>NaN</td>\n",
       "      <td>NaN</td>\n",
       "      <td>NaN</td>\n",
       "      <td>3.000000</td>\n",
       "      <td>NaN</td>\n",
       "    </tr>\n",
       "    <tr>\n",
       "      <th>25%</th>\n",
       "      <td>NaN</td>\n",
       "      <td>NaN</td>\n",
       "      <td>NaN</td>\n",
       "      <td>398.000000</td>\n",
       "      <td>NaN</td>\n",
       "    </tr>\n",
       "    <tr>\n",
       "      <th>50%</th>\n",
       "      <td>NaN</td>\n",
       "      <td>NaN</td>\n",
       "      <td>NaN</td>\n",
       "      <td>856.000000</td>\n",
       "      <td>NaN</td>\n",
       "    </tr>\n",
       "    <tr>\n",
       "      <th>75%</th>\n",
       "      <td>NaN</td>\n",
       "      <td>NaN</td>\n",
       "      <td>NaN</td>\n",
       "      <td>1976.000000</td>\n",
       "      <td>NaN</td>\n",
       "    </tr>\n",
       "    <tr>\n",
       "      <th>max</th>\n",
       "      <td>NaN</td>\n",
       "      <td>NaN</td>\n",
       "      <td>NaN</td>\n",
       "      <td>313236.000000</td>\n",
       "      <td>NaN</td>\n",
       "    </tr>\n",
       "  </tbody>\n",
       "</table>\n",
       "</div>"
      ],
      "text/plain": [
       "       structureId chainId                                           sequence  \\\n",
       "count       345180  345178                                             345177   \n",
       "unique      127387    2348                                              89083   \n",
       "top           3J3Q       A  PIVQNLQGQMVHQAISPRTLNAWVKVVEEKAFSPEVIPMFSALSEG...   \n",
       "freq          1356  123105                                               2580   \n",
       "mean           NaN     NaN                                                NaN   \n",
       "std            NaN     NaN                                                NaN   \n",
       "min            NaN     NaN                                                NaN   \n",
       "25%            NaN     NaN                                                NaN   \n",
       "50%            NaN     NaN                                                NaN   \n",
       "75%            NaN     NaN                                                NaN   \n",
       "max            NaN     NaN                                                NaN   \n",
       "\n",
       "         residueCount macromoleculeType  \n",
       "count   345180.000000            345180  \n",
       "unique            NaN                 1  \n",
       "top               NaN           Protein  \n",
       "freq              NaN            345180  \n",
       "mean      4717.870508               NaN  \n",
       "std      26527.126728               NaN  \n",
       "min          3.000000               NaN  \n",
       "25%        398.000000               NaN  \n",
       "50%        856.000000               NaN  \n",
       "75%       1976.000000               NaN  \n",
       "max     313236.000000               NaN  "
      ]
     },
     "execution_count": 5,
     "metadata": {},
     "output_type": "execute_result"
    }
   ],
   "source": [
    "protein_seq.describe(include=\"all\")"
   ]
  },
  {
   "cell_type": "code",
   "execution_count": 6,
   "metadata": {
    "_cell_guid": "dc2a52bc-06b8-4cd6-b9fa-5cdb04eb629a",
    "_uuid": "dde3664a6ca445d0f6bee5b673cf4cfdf2ab12c9",
    "execution": {
     "iopub.execute_input": "2023-02-06T20:54:48.865788Z",
     "iopub.status.busy": "2023-02-06T20:54:48.865544Z",
     "iopub.status.idle": "2023-02-06T20:54:48.872040Z",
     "shell.execute_reply": "2023-02-06T20:54:48.871230Z",
     "shell.execute_reply.started": "2023-02-06T20:54:48.865754Z"
    }
   },
   "outputs": [
    {
     "data": {
      "text/plain": [
       "Index(['structureId', 'classification', 'experimentalTechnique',\n",
       "       'macromoleculeType', 'residueCount', 'resolution',\n",
       "       'structureMolecularWeight', 'crystallizationMethod',\n",
       "       'crystallizationTempK', 'densityMatthews', 'densityPercentSol',\n",
       "       'pdbxDetails', 'phValue', 'publicationYear'],\n",
       "      dtype='object')"
      ]
     },
     "execution_count": 6,
     "metadata": {},
     "output_type": "execute_result"
    }
   ],
   "source": [
    "protein_char.columns"
   ]
  },
  {
   "cell_type": "code",
   "execution_count": 7,
   "metadata": {
    "_cell_guid": "9a6a9c5a-2273-41d0-911c-3b25ef111660",
    "_uuid": "737f25b9b309f744e835a8279bc00acb07a816df",
    "execution": {
     "iopub.execute_input": "2023-02-06T20:54:48.873458Z",
     "iopub.status.busy": "2023-02-06T20:54:48.873089Z",
     "iopub.status.idle": "2023-02-06T20:54:48.912436Z",
     "shell.execute_reply": "2023-02-06T20:54:48.911709Z",
     "shell.execute_reply.started": "2023-02-06T20:54:48.873411Z"
    }
   },
   "outputs": [
    {
     "data": {
      "text/html": [
       "<div>\n",
       "<style scoped>\n",
       "    .dataframe tbody tr th:only-of-type {\n",
       "        vertical-align: middle;\n",
       "    }\n",
       "\n",
       "    .dataframe tbody tr th {\n",
       "        vertical-align: top;\n",
       "    }\n",
       "\n",
       "    .dataframe thead th {\n",
       "        text-align: right;\n",
       "    }\n",
       "</style>\n",
       "<table border=\"1\" class=\"dataframe\">\n",
       "  <thead>\n",
       "    <tr style=\"text-align: right;\">\n",
       "      <th></th>\n",
       "      <th>structureId</th>\n",
       "      <th>sequence</th>\n",
       "    </tr>\n",
       "  </thead>\n",
       "  <tbody>\n",
       "    <tr>\n",
       "      <th>4</th>\n",
       "      <td>101M</td>\n",
       "      <td>MVLSEGEWQLVLHVWAKVEADVAGHGQDILIRLFKSHPETLEKFDR...</td>\n",
       "    </tr>\n",
       "    <tr>\n",
       "      <th>7</th>\n",
       "      <td>102L</td>\n",
       "      <td>MNIFEMLRIDEGLRLKIYKDTEGYYTIGIGHLLTKSPSLNAAAKSE...</td>\n",
       "    </tr>\n",
       "    <tr>\n",
       "      <th>8</th>\n",
       "      <td>102M</td>\n",
       "      <td>MVLSEGEWQLVLHVWAKVEADVAGHGQDILIRLFKSHPETLEKFDR...</td>\n",
       "    </tr>\n",
       "    <tr>\n",
       "      <th>11</th>\n",
       "      <td>103L</td>\n",
       "      <td>MNIFEMLRIDEGLRLKIYKDTEGYYTIGIGHLLTKSPSLNSLDAAK...</td>\n",
       "    </tr>\n",
       "    <tr>\n",
       "      <th>12</th>\n",
       "      <td>103M</td>\n",
       "      <td>MVLSEGEWQLVLHVWAKVEADVAGHGQDILIRLFKSHPETLEKFDR...</td>\n",
       "    </tr>\n",
       "  </tbody>\n",
       "</table>\n",
       "</div>"
      ],
      "text/plain": [
       "   structureId                                           sequence\n",
       "4         101M  MVLSEGEWQLVLHVWAKVEADVAGHGQDILIRLFKSHPETLEKFDR...\n",
       "7         102L  MNIFEMLRIDEGLRLKIYKDTEGYYTIGIGHLLTKSPSLNAAAKSE...\n",
       "8         102M  MVLSEGEWQLVLHVWAKVEADVAGHGQDILIRLFKSHPETLEKFDR...\n",
       "11        103L  MNIFEMLRIDEGLRLKIYKDTEGYYTIGIGHLLTKSPSLNSLDAAK...\n",
       "12        103M  MVLSEGEWQLVLHVWAKVEADVAGHGQDILIRLFKSHPETLEKFDR..."
      ]
     },
     "execution_count": 7,
     "metadata": {},
     "output_type": "execute_result"
    }
   ],
   "source": [
    "# Select  some variables to join\n",
    "protein_char = protein_char[['structureId','classification','residueCount', 'resolution',\n",
    "       'structureMolecularWeight','crystallizationTempK', 'densityMatthews', 'densityPercentSol', 'phValue']]\n",
    "protein_seq = protein_seq[['structureId','sequence']]\n",
    "protein_seq.head()\n"
   ]
  },
  {
   "cell_type": "code",
   "execution_count": 8,
   "metadata": {
    "_cell_guid": "bb922eee-7702-4480-942f-2680672b0dde",
    "_uuid": "9de9178ead50ac2f049546e54186d75f77e7cb21",
    "execution": {
     "iopub.execute_input": "2023-02-06T20:54:48.913967Z",
     "iopub.status.busy": "2023-02-06T20:54:48.913760Z",
     "iopub.status.idle": "2023-02-06T20:54:48.930747Z",
     "shell.execute_reply": "2023-02-06T20:54:48.929988Z",
     "shell.execute_reply.started": "2023-02-06T20:54:48.913933Z"
    }
   },
   "outputs": [
    {
     "data": {
      "text/html": [
       "<div>\n",
       "<style scoped>\n",
       "    .dataframe tbody tr th:only-of-type {\n",
       "        vertical-align: middle;\n",
       "    }\n",
       "\n",
       "    .dataframe tbody tr th {\n",
       "        vertical-align: top;\n",
       "    }\n",
       "\n",
       "    .dataframe thead th {\n",
       "        text-align: right;\n",
       "    }\n",
       "</style>\n",
       "<table border=\"1\" class=\"dataframe\">\n",
       "  <thead>\n",
       "    <tr style=\"text-align: right;\">\n",
       "      <th></th>\n",
       "      <th>structureId</th>\n",
       "      <th>classification</th>\n",
       "      <th>residueCount</th>\n",
       "      <th>resolution</th>\n",
       "      <th>structureMolecularWeight</th>\n",
       "      <th>crystallizationTempK</th>\n",
       "      <th>densityMatthews</th>\n",
       "      <th>densityPercentSol</th>\n",
       "      <th>phValue</th>\n",
       "    </tr>\n",
       "  </thead>\n",
       "  <tbody>\n",
       "    <tr>\n",
       "      <th>2</th>\n",
       "      <td>101M</td>\n",
       "      <td>OXYGEN TRANSPORT</td>\n",
       "      <td>154</td>\n",
       "      <td>2.07</td>\n",
       "      <td>18112.80</td>\n",
       "      <td>NaN</td>\n",
       "      <td>3.09</td>\n",
       "      <td>60.20</td>\n",
       "      <td>9.0</td>\n",
       "    </tr>\n",
       "    <tr>\n",
       "      <th>4</th>\n",
       "      <td>102L</td>\n",
       "      <td>HYDROLASE(O-GLYCOSYL)</td>\n",
       "      <td>165</td>\n",
       "      <td>1.74</td>\n",
       "      <td>18926.61</td>\n",
       "      <td>NaN</td>\n",
       "      <td>2.75</td>\n",
       "      <td>55.28</td>\n",
       "      <td>NaN</td>\n",
       "    </tr>\n",
       "    <tr>\n",
       "      <th>5</th>\n",
       "      <td>102M</td>\n",
       "      <td>OXYGEN TRANSPORT</td>\n",
       "      <td>154</td>\n",
       "      <td>1.84</td>\n",
       "      <td>18010.64</td>\n",
       "      <td>NaN</td>\n",
       "      <td>3.09</td>\n",
       "      <td>60.20</td>\n",
       "      <td>9.0</td>\n",
       "    </tr>\n",
       "    <tr>\n",
       "      <th>7</th>\n",
       "      <td>103L</td>\n",
       "      <td>HYDROLASE(O-GLYCOSYL)</td>\n",
       "      <td>167</td>\n",
       "      <td>1.90</td>\n",
       "      <td>19092.72</td>\n",
       "      <td>NaN</td>\n",
       "      <td>2.70</td>\n",
       "      <td>54.46</td>\n",
       "      <td>NaN</td>\n",
       "    </tr>\n",
       "    <tr>\n",
       "      <th>8</th>\n",
       "      <td>103M</td>\n",
       "      <td>OXYGEN TRANSPORT</td>\n",
       "      <td>154</td>\n",
       "      <td>2.07</td>\n",
       "      <td>18093.78</td>\n",
       "      <td>NaN</td>\n",
       "      <td>3.09</td>\n",
       "      <td>60.30</td>\n",
       "      <td>9.0</td>\n",
       "    </tr>\n",
       "  </tbody>\n",
       "</table>\n",
       "</div>"
      ],
      "text/plain": [
       "  structureId         classification  residueCount  resolution  \\\n",
       "2        101M       OXYGEN TRANSPORT           154        2.07   \n",
       "4        102L  HYDROLASE(O-GLYCOSYL)           165        1.74   \n",
       "5        102M       OXYGEN TRANSPORT           154        1.84   \n",
       "7        103L  HYDROLASE(O-GLYCOSYL)           167        1.90   \n",
       "8        103M       OXYGEN TRANSPORT           154        2.07   \n",
       "\n",
       "   structureMolecularWeight  crystallizationTempK  densityMatthews  \\\n",
       "2                  18112.80                   NaN             3.09   \n",
       "4                  18926.61                   NaN             2.75   \n",
       "5                  18010.64                   NaN             3.09   \n",
       "7                  19092.72                   NaN             2.70   \n",
       "8                  18093.78                   NaN             3.09   \n",
       "\n",
       "   densityPercentSol  phValue  \n",
       "2              60.20      9.0  \n",
       "4              55.28      NaN  \n",
       "5              60.20      9.0  \n",
       "7              54.46      NaN  \n",
       "8              60.30      9.0  "
      ]
     },
     "execution_count": 8,
     "metadata": {},
     "output_type": "execute_result"
    }
   ],
   "source": [
    "protein_char.head()"
   ]
  },
  {
   "cell_type": "markdown",
   "metadata": {
    "_cell_guid": "2735742e-61f2-412c-ad2f-eca4eb65ed08",
    "_uuid": "529d76e7aac28a71bee72fc4c96ccf214de8a253"
   },
   "source": [
    "The protein_seq correctly contains proteins as different sequences start with Methoinine, as well as sequences containing more letters than 'ACTG'. We can now perform a join using structureId as the index. We'll utilize pandas 'join' method. To do this, we have to set the index for each dataframe to be 'structureId'. "
   ]
  },
  {
   "cell_type": "code",
   "execution_count": 9,
   "metadata": {
    "_cell_guid": "97271501-3883-4a90-9331-c8dc39e32a9c",
    "_uuid": "e97a96cb92c584100131c45352f928222987fd63",
    "execution": {
     "iopub.execute_input": "2023-02-06T20:54:48.932446Z",
     "iopub.status.busy": "2023-02-06T20:54:48.932210Z",
     "iopub.status.idle": "2023-02-06T20:54:49.362926Z",
     "shell.execute_reply": "2023-02-06T20:54:49.362229Z",
     "shell.execute_reply.started": "2023-02-06T20:54:48.932398Z"
    }
   },
   "outputs": [
    {
     "data": {
      "text/html": [
       "<div>\n",
       "<style scoped>\n",
       "    .dataframe tbody tr th:only-of-type {\n",
       "        vertical-align: middle;\n",
       "    }\n",
       "\n",
       "    .dataframe tbody tr th {\n",
       "        vertical-align: top;\n",
       "    }\n",
       "\n",
       "    .dataframe thead th {\n",
       "        text-align: right;\n",
       "    }\n",
       "</style>\n",
       "<table border=\"1\" class=\"dataframe\">\n",
       "  <thead>\n",
       "    <tr style=\"text-align: right;\">\n",
       "      <th></th>\n",
       "      <th>classification</th>\n",
       "      <th>residueCount</th>\n",
       "      <th>resolution</th>\n",
       "      <th>structureMolecularWeight</th>\n",
       "      <th>crystallizationTempK</th>\n",
       "      <th>densityMatthews</th>\n",
       "      <th>densityPercentSol</th>\n",
       "      <th>phValue</th>\n",
       "      <th>sequence</th>\n",
       "    </tr>\n",
       "    <tr>\n",
       "      <th>structureId</th>\n",
       "      <th></th>\n",
       "      <th></th>\n",
       "      <th></th>\n",
       "      <th></th>\n",
       "      <th></th>\n",
       "      <th></th>\n",
       "      <th></th>\n",
       "      <th></th>\n",
       "      <th></th>\n",
       "    </tr>\n",
       "  </thead>\n",
       "  <tbody>\n",
       "    <tr>\n",
       "      <th>101M</th>\n",
       "      <td>OXYGEN TRANSPORT</td>\n",
       "      <td>154</td>\n",
       "      <td>2.07</td>\n",
       "      <td>18112.80</td>\n",
       "      <td>NaN</td>\n",
       "      <td>3.09</td>\n",
       "      <td>60.20</td>\n",
       "      <td>9.0</td>\n",
       "      <td>MVLSEGEWQLVLHVWAKVEADVAGHGQDILIRLFKSHPETLEKFDR...</td>\n",
       "    </tr>\n",
       "    <tr>\n",
       "      <th>102L</th>\n",
       "      <td>HYDROLASE(O-GLYCOSYL)</td>\n",
       "      <td>165</td>\n",
       "      <td>1.74</td>\n",
       "      <td>18926.61</td>\n",
       "      <td>NaN</td>\n",
       "      <td>2.75</td>\n",
       "      <td>55.28</td>\n",
       "      <td>NaN</td>\n",
       "      <td>MNIFEMLRIDEGLRLKIYKDTEGYYTIGIGHLLTKSPSLNAAAKSE...</td>\n",
       "    </tr>\n",
       "    <tr>\n",
       "      <th>102M</th>\n",
       "      <td>OXYGEN TRANSPORT</td>\n",
       "      <td>154</td>\n",
       "      <td>1.84</td>\n",
       "      <td>18010.64</td>\n",
       "      <td>NaN</td>\n",
       "      <td>3.09</td>\n",
       "      <td>60.20</td>\n",
       "      <td>9.0</td>\n",
       "      <td>MVLSEGEWQLVLHVWAKVEADVAGHGQDILIRLFKSHPETLEKFDR...</td>\n",
       "    </tr>\n",
       "    <tr>\n",
       "      <th>103L</th>\n",
       "      <td>HYDROLASE(O-GLYCOSYL)</td>\n",
       "      <td>167</td>\n",
       "      <td>1.90</td>\n",
       "      <td>19092.72</td>\n",
       "      <td>NaN</td>\n",
       "      <td>2.70</td>\n",
       "      <td>54.46</td>\n",
       "      <td>NaN</td>\n",
       "      <td>MNIFEMLRIDEGLRLKIYKDTEGYYTIGIGHLLTKSPSLNSLDAAK...</td>\n",
       "    </tr>\n",
       "    <tr>\n",
       "      <th>103M</th>\n",
       "      <td>OXYGEN TRANSPORT</td>\n",
       "      <td>154</td>\n",
       "      <td>2.07</td>\n",
       "      <td>18093.78</td>\n",
       "      <td>NaN</td>\n",
       "      <td>3.09</td>\n",
       "      <td>60.30</td>\n",
       "      <td>9.0</td>\n",
       "      <td>MVLSEGEWQLVLHVWAKVEADVAGHGQDILIRLFKSHPETLEKFDR...</td>\n",
       "    </tr>\n",
       "  </tbody>\n",
       "</table>\n",
       "</div>"
      ],
      "text/plain": [
       "                    classification  residueCount  resolution  \\\n",
       "structureId                                                    \n",
       "101M              OXYGEN TRANSPORT           154        2.07   \n",
       "102L         HYDROLASE(O-GLYCOSYL)           165        1.74   \n",
       "102M              OXYGEN TRANSPORT           154        1.84   \n",
       "103L         HYDROLASE(O-GLYCOSYL)           167        1.90   \n",
       "103M              OXYGEN TRANSPORT           154        2.07   \n",
       "\n",
       "             structureMolecularWeight  crystallizationTempK  densityMatthews  \\\n",
       "structureId                                                                    \n",
       "101M                         18112.80                   NaN             3.09   \n",
       "102L                         18926.61                   NaN             2.75   \n",
       "102M                         18010.64                   NaN             3.09   \n",
       "103L                         19092.72                   NaN             2.70   \n",
       "103M                         18093.78                   NaN             3.09   \n",
       "\n",
       "             densityPercentSol  phValue  \\\n",
       "structureId                               \n",
       "101M                     60.20      9.0   \n",
       "102L                     55.28      NaN   \n",
       "102M                     60.20      9.0   \n",
       "103L                     54.46      NaN   \n",
       "103M                     60.30      9.0   \n",
       "\n",
       "                                                      sequence  \n",
       "structureId                                                     \n",
       "101M         MVLSEGEWQLVLHVWAKVEADVAGHGQDILIRLFKSHPETLEKFDR...  \n",
       "102L         MNIFEMLRIDEGLRLKIYKDTEGYYTIGIGHLLTKSPSLNAAAKSE...  \n",
       "102M         MVLSEGEWQLVLHVWAKVEADVAGHGQDILIRLFKSHPETLEKFDR...  \n",
       "103L         MNIFEMLRIDEGLRLKIYKDTEGYYTIGIGHLLTKSPSLNSLDAAK...  \n",
       "103M         MVLSEGEWQLVLHVWAKVEADVAGHGQDILIRLFKSHPETLEKFDR...  "
      ]
     },
     "execution_count": 9,
     "metadata": {},
     "output_type": "execute_result"
    }
   ],
   "source": [
    "# Join two datasets on structureId\n",
    "model_f = protein_char.set_index('structureId').join(protein_seq.set_index('structureId'))\n",
    "model_f.head()"
   ]
  },
  {
   "cell_type": "code",
   "execution_count": 10,
   "metadata": {
    "_cell_guid": "6bc0457b-6027-4a91-9783-2bf5c5e8a2f5",
    "_uuid": "1ea5e3793c87e53fa8913a937088f51aa8b8cd94",
    "execution": {
     "iopub.execute_input": "2023-02-06T20:54:49.364397Z",
     "iopub.status.busy": "2023-02-06T20:54:49.364015Z",
     "iopub.status.idle": "2023-02-06T20:54:49.369177Z",
     "shell.execute_reply": "2023-02-06T20:54:49.368484Z",
     "shell.execute_reply.started": "2023-02-06T20:54:49.364347Z"
    }
   },
   "outputs": [
    {
     "name": "stdout",
     "output_type": "stream",
     "text": [
      "346325 is the number of rows in the joined dataset\n"
     ]
    }
   ],
   "source": [
    "print('%d is the number of rows in the joined dataset' %model_f.shape[0])"
   ]
  },
  {
   "cell_type": "markdown",
   "metadata": {
    "_cell_guid": "844faa5d-9ab6-4287-b5dc-f3275b34ba95",
    "_uuid": "e1a05887258fce7815ec9daa7d32862fe6e252d2"
   },
   "source": [
    "The two dataframes have officially been joined into one with 346,325 proteins. The data processing is not finished as it's important to take a look at the misingness associated with the columns."
   ]
  },
  {
   "cell_type": "code",
   "execution_count": 11,
   "metadata": {
    "_cell_guid": "6cf0a75c-90bc-4540-9081-778ab77bb30c",
    "_uuid": "168b06942cf1b48c774b43d946668b6fd44f0541",
    "execution": {
     "iopub.execute_input": "2023-02-06T20:54:49.370588Z",
     "iopub.status.busy": "2023-02-06T20:54:49.370199Z",
     "iopub.status.idle": "2023-02-06T20:54:49.523133Z",
     "shell.execute_reply": "2023-02-06T20:54:49.522415Z",
     "shell.execute_reply.started": "2023-02-06T20:54:49.370541Z"
    }
   },
   "outputs": [
    {
     "data": {
      "text/plain": [
       "classification                   1\n",
       "residueCount                     0\n",
       "resolution                   16093\n",
       "structureMolecularWeight         0\n",
       "crystallizationTempK        102391\n",
       "densityMatthews              38844\n",
       "densityPercentSol            38710\n",
       "phValue                      87195\n",
       "sequence                         3\n",
       "dtype: int64"
      ]
     },
     "execution_count": 11,
     "metadata": {},
     "output_type": "execute_result"
    }
   ],
   "source": [
    "# Check NA counts\n",
    "model_f.isnull().sum()"
   ]
  },
  {
   "cell_type": "markdown",
   "metadata": {
    "_cell_guid": "83feb4d4-0349-4346-b1f6-c842cbd79738",
    "_uuid": "41600d9b978d2822c5f3f31cf4637eb7ae817b68"
   },
   "source": [
    "With 346,325 proteins, it appears that simply removing missing values is acceptable."
   ]
  },
  {
   "cell_type": "code",
   "execution_count": 12,
   "metadata": {
    "_cell_guid": "8cdf826b-8411-492c-8f86-1ae20654fc83",
    "_uuid": "a9f687d00de76235252d6861db77e34ed1ffffc7",
    "execution": {
     "iopub.execute_input": "2023-02-06T20:54:49.524569Z",
     "iopub.status.busy": "2023-02-06T20:54:49.524293Z",
     "iopub.status.idle": "2023-02-06T20:54:49.627286Z",
     "shell.execute_reply": "2023-02-06T20:54:49.626409Z",
     "shell.execute_reply.started": "2023-02-06T20:54:49.524508Z"
    }
   },
   "outputs": [
    {
     "name": "stdout",
     "output_type": "stream",
     "text": [
      "214106 is the number of proteins that have a classification and sequence\n"
     ]
    }
   ],
   "source": [
    "# Drop rows with missing values\n",
    "model_f = model_f.dropna()\n",
    "print('%d is the number of proteins that have a classification and sequence' %model_f.shape[0])"
   ]
  },
  {
   "cell_type": "markdown",
   "metadata": {
    "_cell_guid": "d7398007-09e5-4f09-b0a1-983763f137a2",
    "_uuid": "e10085fbf4c19c9dfa2c0c034a451fb62a88d456"
   },
   "source": [
    "Lastly, it's important to look at the types of family groups that clasification can be."
   ]
  },
  {
   "cell_type": "code",
   "execution_count": 13,
   "metadata": {
    "_cell_guid": "a6dec8f9-ddf9-4a97-b542-b4351c3caf6b",
    "_uuid": "a084598f3f86b9ff7ef9b7fc3ab979d77cd2a411",
    "execution": {
     "iopub.execute_input": "2023-02-06T20:54:49.628909Z",
     "iopub.status.busy": "2023-02-06T20:54:49.628596Z",
     "iopub.status.idle": "2023-02-06T20:54:49.846203Z",
     "shell.execute_reply": "2023-02-06T20:54:49.845170Z",
     "shell.execute_reply.started": "2023-02-06T20:54:49.628850Z"
    }
   },
   "outputs": [
    {
     "name": "stdout",
     "output_type": "stream",
     "text": [
      "HYDROLASE                                  29726\n",
      "TRANSFERASE                                24338\n",
      "OXIDOREDUCTASE                             22578\n",
      "IMMUNE SYSTEM                              11087\n",
      "HYDROLASE/HYDROLASE INHIBITOR               9569\n",
      "LYASE                                       8445\n",
      "TRANSCRIPTION                               5619\n",
      "TRANSPORT PROTEIN                           5063\n",
      "ISOMERASE                                   4618\n",
      "VIRAL PROTEIN                               4465\n",
      "SIGNALING PROTEIN                           3777\n",
      "LIGASE                                      3603\n",
      "PROTEIN BINDING                             3313\n",
      "STRUCTURAL GENOMICS, UNKNOWN FUNCTION       2849\n",
      "TRANSFERASE/TRANSFERASE INHIBITOR           2565\n",
      "MEMBRANE PROTEIN                            2452\n",
      "SUGAR BINDING PROTEIN                       2434\n",
      "UNKNOWN FUNCTION                            2022\n",
      "DNA BINDING PROTEIN                         2014\n",
      "CHAPERONE                                   1998\n",
      "STRUCTURAL PROTEIN                          1966\n",
      "METAL BINDING PROTEIN                       1913\n",
      "CELL ADHESION                               1736\n",
      "ELECTRON TRANSPORT                          1720\n",
      "PROTEIN TRANSPORT                           1550\n",
      "OXIDOREDUCTASE/OXIDOREDUCTASE INHIBITOR     1386\n",
      "TOXIN                                       1344\n",
      "RNA BINDING PROTEIN                         1244\n",
      "CELL CYCLE                                  1221\n",
      "PHOTOSYNTHESIS                              1186\n",
      "                                           ...  \n",
      "Isomerase, PROTEIN BINDING/INHIBITOR           1\n",
      "Polymerase-binding protein                     1\n",
      "Hormone activator                              1\n",
      "DNA BINDING PROTEIN, STRUCTURAL PROTEIN        1\n",
      "TOXIN,LYASE                                    1\n",
      "Apoptosis inhibitor                            1\n",
      "REPLICATION, CHAPERONE                         1\n",
      "Transferase, Signaling protein                 1\n",
      "TRANSCRIPTION, CELL CYCLE                      1\n",
      "LYASE, DNA BINDING PROTEIN                     1\n",
      "viral protein, dna binding protein             1\n",
      "Actin-BINDING PROTEIN                          1\n",
      "Cytokine, Signaling Protein                    1\n",
      "Gene Regulation, Chaperone                     1\n",
      "IMMUNE SYSTEM, LIPID BINDING PROTEIN           1\n",
      "Sugar Binding Protein,Signaling Protein        1\n",
      "STRUCTURAL PROTEIN, CELL CYCLE                 1\n",
      "PROTEIN BINDING, ONCOPROTEIN                   1\n",
      "Structural genomics, transferase               1\n",
      "NAD(P) binding protein                         1\n",
      "TRANSFERASE, KINASE                            1\n",
      "Zorbamycin Binding Protein                     1\n",
      "LIPID KINASE                                   1\n",
      "Transcription/Transcription Inhibitor          1\n",
      "PHOSPHATE-BINDING PROTEIN                      1\n",
      "TRANSCRIPTION,TRANSLATION,HYDROLASE            1\n",
      "PROTEIN TRANSPORT, ENDOCYTOSIS                 1\n",
      "SUGAR BINDING PROTEIN,SIGNALING PROTEIN        1\n",
      "Signaling Protein, Electron Transport          1\n",
      "Transferase,Signaling Protein/INHIBITOR        1\n",
      "Name: classification, Length: 2458, dtype: int64\n"
     ]
    },
    {
     "data": {
      "image/png": "[encoded data removed]",
      "text/plain": [
       "<matplotlib.figure.Figure at 0x7fc1cbaddcf8>"
      ]
     },
     "metadata": {},
     "output_type": "display_data"
    }
   ],
   "source": [
    "# Look at classification type counts\n",
    "counts = model_f.classification.value_counts()\n",
    "print(counts)\n",
    "\n",
    "#plot counts\n",
    "plt.figure()\n",
    "sns.distplot(counts, hist = False, color = 'purple')\n",
    "plt.title('Count Distribution for Family Types')\n",
    "plt.ylabel('% of records')\n",
    "plt.show()"
   ]
  },
  {
   "cell_type": "markdown",
   "metadata": {
    "_cell_guid": "ae9e3dbe-92a9-43fb-8e72-fdd00f9da403",
    "_uuid": "6302970b8badab11d307de687d61f3e6b5546f41"
   },
   "source": [
    "There appears to be a wide distribution of counts for family types. It may be a good idea to filter for having a certain amount of recordes that are of a specific family type. 1,000 seems like a solid number that will allow a machine learning model to learn a pattern for a specific class."
   ]
  },
  {
   "cell_type": "code",
   "execution_count": 14,
   "metadata": {
    "_cell_guid": "315ea977-e678-4adf-be42-2780a2273fa1",
    "_uuid": "9708d8e9444e8bafae6042eeaa7cfa7e61763e83",
    "execution": {
     "iopub.execute_input": "2023-02-06T20:54:49.847720Z",
     "iopub.status.busy": "2023-02-06T20:54:49.847326Z",
     "iopub.status.idle": "2023-02-06T20:54:49.974473Z",
     "shell.execute_reply": "2023-02-06T20:54:49.973640Z",
     "shell.execute_reply.started": "2023-02-06T20:54:49.847678Z"
    }
   },
   "outputs": [
    {
     "name": "stdout",
     "output_type": "stream",
     "text": [
      "32\n",
      "['HYDROLASE' 'TRANSFERASE' 'OXIDOREDUCTASE' 'IMMUNE SYSTEM'\n",
      " 'HYDROLASE/HYDROLASE INHIBITOR' 'LYASE' 'TRANSCRIPTION'\n",
      " 'TRANSPORT PROTEIN' 'ISOMERASE' 'VIRAL PROTEIN' 'SIGNALING PROTEIN'\n",
      " 'LIGASE' 'PROTEIN BINDING' 'STRUCTURAL GENOMICS, UNKNOWN FUNCTION'\n",
      " 'TRANSFERASE/TRANSFERASE INHIBITOR' 'MEMBRANE PROTEIN'\n",
      " 'SUGAR BINDING PROTEIN' 'UNKNOWN FUNCTION' 'DNA BINDING PROTEIN'\n",
      " 'CHAPERONE' 'STRUCTURAL PROTEIN' 'METAL BINDING PROTEIN' 'CELL ADHESION'\n",
      " 'ELECTRON TRANSPORT' 'PROTEIN TRANSPORT'\n",
      " 'OXIDOREDUCTASE/OXIDOREDUCTASE INHIBITOR' 'TOXIN' 'RNA BINDING PROTEIN'\n",
      " 'CELL CYCLE' 'PHOTOSYNTHESIS' 'GENE REGULATION' 'DE NOVO PROTEIN']\n",
      "46422 is the number of records in the final filtered dataset\n"
     ]
    }
   ],
   "source": [
    "# Get classification types where counts are over 1000\n",
    "types = np.asarray(counts[(counts > 1000)].index)\n",
    "print(len(types))\n",
    "# Filter dataset's records for classification types > 1000\n",
    "data = model_f[model_f.classification.isin(types)]\n",
    "data = data.drop_duplicates(subset=[\"classification\",\"sequence\"])  # leaving more rows results in duplciates / index related?\n",
    "\n",
    "print(types)\n",
    "print('%d is the number of records in the final filtered dataset' %data.shape[0])"
   ]
  },
  {
   "cell_type": "code",
   "execution_count": 15,
   "metadata": {
    "_cell_guid": "b3080af7-cb98-45d2-866d-c117addd59cf",
    "_uuid": "396f8c69dc84d74c92eaa5861a3ba2b99954307a",
    "execution": {
     "iopub.execute_input": "2023-02-06T20:54:49.975861Z",
     "iopub.status.busy": "2023-02-06T20:54:49.975593Z",
     "iopub.status.idle": "2023-02-06T20:54:50.032778Z",
     "shell.execute_reply": "2023-02-06T20:54:50.031395Z",
     "shell.execute_reply.started": "2023-02-06T20:54:49.975815Z"
    }
   },
   "outputs": [
    {
     "data": {
      "text/plain": [
       "(46422, 9)"
      ]
     },
     "execution_count": 15,
     "metadata": {},
     "output_type": "execute_result"
    }
   ],
   "source": [
    "data = data.drop_duplicates(subset=[\"classification\",\"sequence\"]) \n",
    "data.shape"
   ]
  },
  {
   "cell_type": "markdown",
   "metadata": {
    "_cell_guid": "d345b884-63a8-47dc-b576-136463d6e174",
    "_uuid": "500a215db824e919b28527862ae5b4e245d6d04b"
   },
   "source": [
    "### 3). Train Test Split\n",
    "After finally filtering the dataset, a split on the data to create a training and testing set must be performed. After splitting the data, it's important to utilize the CountVectorizer to create a dictionary composed from the training dataset. This will extract individual characters or subsets of characters to gain features. An important note about using the CountVectorizer is the specification of the ngram_range. \n",
    "\n",
    "In a protein, it's not the individual amino acid in the protein that gives identification to what it's purpose is. There are secondary and tertiary structures that are formed via the bonds of the amino acids in the sequence. Furthermore, different parts of the chain can be more basic, and others can be more acidic, indicating it's important to use features that are larger than just one unit. As a result, using an ngram_range of (4,4) seems to be a legitmate choice for feature extraction. This will extract different subsets that are of length 4 allowing the amino acids to use their neighbors to aid in our classification."
   ]
  },
  {
   "cell_type": "code",
   "execution_count": 16,
   "metadata": {
    "_cell_guid": "0ed06df1-10c5-49b1-95ce-582a3f5dc409",
    "_uuid": "0ceb4937bcf92b132ee71e071128e119c524f877",
    "execution": {
     "iopub.execute_input": "2023-02-06T20:54:50.034371Z",
     "iopub.status.busy": "2023-02-06T20:54:50.034117Z",
     "iopub.status.idle": "2023-02-06T20:54:50.039376Z",
     "shell.execute_reply": "2023-02-06T20:54:50.038688Z",
     "shell.execute_reply.started": "2023-02-06T20:54:50.034322Z"
    }
   },
   "outputs": [],
   "source": [
    "## Could add n-grams\n",
    "## https://stackoverflow.com/questions/18658106/quick-implementation-of-character-n-grams-using-python\n",
    "# jump_size !=1 -> less overlap in n-grams. \n",
    "def char_grams(text,n=3,jump_size=2):\n",
    "    return [text[i:i+n] for i in range(0,len(text)-n+1,jump_size)]"
   ]
  },
  {
   "cell_type": "code",
   "execution_count": 17,
   "metadata": {
    "_cell_guid": "ce7c4a6d-f02b-4b86-aebe-5f3cca04ae0d",
    "_uuid": "e24ff6750f2cfab7b28d5bd61088d31f22d79311",
    "execution": {
     "iopub.execute_input": "2023-02-06T20:54:50.040557Z",
     "iopub.status.busy": "2023-02-06T20:54:50.040242Z",
     "iopub.status.idle": "2023-02-06T20:54:50.057909Z",
     "shell.execute_reply": "2023-02-06T20:54:50.057028Z",
     "shell.execute_reply.started": "2023-02-06T20:54:50.040524Z"
    }
   },
   "outputs": [
    {
     "data": {
      "text/plain": [
       "structureId\n",
       "1A4S    [AQL, LVD, DSM, MPS, SAS, STG, GSV, VVV, VTD, ...\n",
       "1A6Q    [MGA, AFL, LDK, KPK, KME, EKH, HNA, AQG, GQG, ...\n",
       "1A72    [STA, AGK, KVI, IKC, CKA, AAV, VLW, WEE, EKK, ...\n",
       "Name: sequence, dtype: object"
      ]
     },
     "execution_count": 17,
     "metadata": {},
     "output_type": "execute_result"
    }
   ],
   "source": [
    "data.head(3).sequence.apply(char_grams)"
   ]
  },
  {
   "cell_type": "code",
   "execution_count": 18,
   "metadata": {
    "_cell_guid": "5a389ac0-fef6-4541-9d24-a90902c026bb",
    "_uuid": "0fbcf65790fa2ddabc2da4b9f7cb66c7147ccec0",
    "execution": {
     "iopub.execute_input": "2023-02-06T20:54:50.059406Z",
     "iopub.status.busy": "2023-02-06T20:54:50.059091Z",
     "iopub.status.idle": "2023-02-06T20:54:51.368107Z",
     "shell.execute_reply": "2023-02-06T20:54:51.367286Z",
     "shell.execute_reply.started": "2023-02-06T20:54:50.059341Z"
    }
   },
   "outputs": [],
   "source": [
    "data[\"3mers\"] = data.sequence.apply(char_grams)"
   ]
  },
  {
   "cell_type": "code",
   "execution_count": 19,
   "metadata": {
    "_cell_guid": "c4bb6c49-5fb3-4b6b-90f3-2cb4db9f6fc6",
    "_uuid": "b25f114a470b0e3502fff8e35bb472d08c204997",
    "execution": {
     "iopub.execute_input": "2023-02-06T20:54:51.369722Z",
     "iopub.status.busy": "2023-02-06T20:54:51.369392Z",
     "iopub.status.idle": "2023-02-06T20:54:51.395047Z",
     "shell.execute_reply": "2023-02-06T20:54:51.393990Z",
     "shell.execute_reply.started": "2023-02-06T20:54:51.369671Z"
    }
   },
   "outputs": [
    {
     "data": {
      "text/html": [
       "<div>\n",
       "<style scoped>\n",
       "    .dataframe tbody tr th:only-of-type {\n",
       "        vertical-align: middle;\n",
       "    }\n",
       "\n",
       "    .dataframe tbody tr th {\n",
       "        vertical-align: top;\n",
       "    }\n",
       "\n",
       "    .dataframe thead th {\n",
       "        text-align: right;\n",
       "    }\n",
       "</style>\n",
       "<table border=\"1\" class=\"dataframe\">\n",
       "  <thead>\n",
       "    <tr style=\"text-align: right;\">\n",
       "      <th></th>\n",
       "      <th>classification</th>\n",
       "      <th>residueCount</th>\n",
       "      <th>resolution</th>\n",
       "      <th>structureMolecularWeight</th>\n",
       "      <th>crystallizationTempK</th>\n",
       "      <th>densityMatthews</th>\n",
       "      <th>densityPercentSol</th>\n",
       "      <th>phValue</th>\n",
       "      <th>sequence</th>\n",
       "      <th>3mers</th>\n",
       "    </tr>\n",
       "    <tr>\n",
       "      <th>structureId</th>\n",
       "      <th></th>\n",
       "      <th></th>\n",
       "      <th></th>\n",
       "      <th></th>\n",
       "      <th></th>\n",
       "      <th></th>\n",
       "      <th></th>\n",
       "      <th></th>\n",
       "      <th></th>\n",
       "      <th></th>\n",
       "    </tr>\n",
       "  </thead>\n",
       "  <tbody>\n",
       "    <tr>\n",
       "      <th>6FFL</th>\n",
       "      <td>SUGAR BINDING PROTEIN</td>\n",
       "      <td>388</td>\n",
       "      <td>1.71</td>\n",
       "      <td>44992.17</td>\n",
       "      <td>291.0</td>\n",
       "      <td>2.59</td>\n",
       "      <td>53.00</td>\n",
       "      <td>5.5</td>\n",
       "      <td>EDVRIQIWHQMIYGHRQVLAEALEKFEKENPGITVQATYRETEELR...</td>\n",
       "      <td>[EDV, VRI, IQI, IWH, HQM, MIY, YGH, HRQ, QVL, ...</td>\n",
       "    </tr>\n",
       "    <tr>\n",
       "      <th>6FG7</th>\n",
       "      <td>PROTEIN BINDING</td>\n",
       "      <td>500</td>\n",
       "      <td>1.90</td>\n",
       "      <td>56392.64</td>\n",
       "      <td>298.0</td>\n",
       "      <td>3.39</td>\n",
       "      <td>63.68</td>\n",
       "      <td>4.0</td>\n",
       "      <td>MKEIGSKPRKLLPLCFIIFLCFCSSVMAADEDDIRCLRGLKASLTD...</td>\n",
       "      <td>[MKE, EIG, GSK, KPR, RKL, LLP, PLC, CFI, IIF, ...</td>\n",
       "    </tr>\n",
       "    <tr>\n",
       "      <th>6FG8</th>\n",
       "      <td>PROTEIN BINDING</td>\n",
       "      <td>506</td>\n",
       "      <td>1.25</td>\n",
       "      <td>58478.36</td>\n",
       "      <td>298.0</td>\n",
       "      <td>1.86</td>\n",
       "      <td>33.78</td>\n",
       "      <td>5.5</td>\n",
       "      <td>MTRLTVLALLAGLLASSRAGSSMASANLEGDALHTLRVTLVDPNNV...</td>\n",
       "      <td>[MTR, RLT, TVL, LAL, LLA, AGL, LLA, ASS, SRA, ...</td>\n",
       "    </tr>\n",
       "    <tr>\n",
       "      <th>6FG8</th>\n",
       "      <td>PROTEIN BINDING</td>\n",
       "      <td>506</td>\n",
       "      <td>1.25</td>\n",
       "      <td>58478.36</td>\n",
       "      <td>298.0</td>\n",
       "      <td>1.86</td>\n",
       "      <td>33.78</td>\n",
       "      <td>5.5</td>\n",
       "      <td>MKKIFITLLWLLFISSFLCSSSSAEDDVLCLQGLKNSLIDPSSRLS...</td>\n",
       "      <td>[MKK, KIF, FIT, TLL, LWL, LLF, FIS, SSF, FLC, ...</td>\n",
       "    </tr>\n",
       "    <tr>\n",
       "      <th>6FIF</th>\n",
       "      <td>PROTEIN BINDING</td>\n",
       "      <td>837</td>\n",
       "      <td>2.54</td>\n",
       "      <td>93918.31</td>\n",
       "      <td>298.0</td>\n",
       "      <td>3.32</td>\n",
       "      <td>62.96</td>\n",
       "      <td>4.0</td>\n",
       "      <td>MKTFSSFFLSVTTLFFFSFFSLSFQASPSQSLYREIHQLISFKDVL...</td>\n",
       "      <td>[MKT, TFS, SSF, FFL, LSV, VTT, TLF, FFF, FSF, ...</td>\n",
       "    </tr>\n",
       "  </tbody>\n",
       "</table>\n",
       "</div>"
      ],
      "text/plain": [
       "                    classification  residueCount  resolution  \\\n",
       "structureId                                                    \n",
       "6FFL         SUGAR BINDING PROTEIN           388        1.71   \n",
       "6FG7               PROTEIN BINDING           500        1.90   \n",
       "6FG8               PROTEIN BINDING           506        1.25   \n",
       "6FG8               PROTEIN BINDING           506        1.25   \n",
       "6FIF               PROTEIN BINDING           837        2.54   \n",
       "\n",
       "             structureMolecularWeight  crystallizationTempK  densityMatthews  \\\n",
       "structureId                                                                    \n",
       "6FFL                         44992.17                 291.0             2.59   \n",
       "6FG7                         56392.64                 298.0             3.39   \n",
       "6FG8                         58478.36                 298.0             1.86   \n",
       "6FG8                         58478.36                 298.0             1.86   \n",
       "6FIF                         93918.31                 298.0             3.32   \n",
       "\n",
       "             densityPercentSol  phValue  \\\n",
       "structureId                               \n",
       "6FFL                     53.00      5.5   \n",
       "6FG7                     63.68      4.0   \n",
       "6FG8                     33.78      5.5   \n",
       "6FG8                     33.78      5.5   \n",
       "6FIF                     62.96      4.0   \n",
       "\n",
       "                                                      sequence  \\\n",
       "structureId                                                      \n",
       "6FFL         EDVRIQIWHQMIYGHRQVLAEALEKFEKENPGITVQATYRETEELR...   \n",
       "6FG7         MKEIGSKPRKLLPLCFIIFLCFCSSVMAADEDDIRCLRGLKASLTD...   \n",
       "6FG8         MTRLTVLALLAGLLASSRAGSSMASANLEGDALHTLRVTLVDPNNV...   \n",
       "6FG8         MKKIFITLLWLLFISSFLCSSSSAEDDVLCLQGLKNSLIDPSSRLS...   \n",
       "6FIF         MKTFSSFFLSVTTLFFFSFFSLSFQASPSQSLYREIHQLISFKDVL...   \n",
       "\n",
       "                                                         3mers  \n",
       "structureId                                                     \n",
       "6FFL         [EDV, VRI, IQI, IWH, HQM, MIY, YGH, HRQ, QVL, ...  \n",
       "6FG7         [MKE, EIG, GSK, KPR, RKL, LLP, PLC, CFI, IIF, ...  \n",
       "6FG8         [MTR, RLT, TVL, LAL, LLA, AGL, LLA, ASS, SRA, ...  \n",
       "6FG8         [MKK, KIF, FIT, TLL, LWL, LLF, FIS, SSF, FLC, ...  \n",
       "6FIF         [MKT, TFS, SSF, FFL, LSV, VTT, TLF, FFF, FSF, ...  "
      ]
     },
     "execution_count": 19,
     "metadata": {},
     "output_type": "execute_result"
    }
   ],
   "source": [
    "data.tail()"
   ]
  },
  {
   "cell_type": "code",
   "execution_count": 20,
   "metadata": {
    "_cell_guid": "5cd38427-9c38-4fb6-b0d4-9943e8c3420c",
    "_uuid": "2077ac3cfd9e1aaca6f17b291adcae0193fcf8c2",
    "execution": {
     "iopub.execute_input": "2023-02-06T20:54:51.396736Z",
     "iopub.status.busy": "2023-02-06T20:54:51.396447Z",
     "iopub.status.idle": "2023-02-06T20:55:21.711245Z",
     "shell.execute_reply": "2023-02-06T20:55:21.710702Z",
     "shell.execute_reply.started": "2023-02-06T20:54:51.396675Z"
    }
   },
   "outputs": [],
   "source": [
    "data.to_csv(\"protein_classification_46k_ngrams.csv.gz\",compression=\"gzip\")"
   ]
  },
  {
   "cell_type": "code",
   "execution_count": null,
   "metadata": {
    "_cell_guid": "2f112664-a654-4e6b-bf70-e9ac8e5ccc61",
    "_uuid": "f8a42be5947d434153c78d3b55cb40ec292bebdf",
    "collapsed": true,
    "jupyter": {
     "outputs_hidden": true
    }
   },
   "outputs": [],
   "source": []
  },
  {
   "cell_type": "code",
   "execution_count": null,
   "metadata": {
    "_cell_guid": "c3be5f30-884a-4ed4-8e5e-a6ae85feccc9",
    "_uuid": "866ea95a148aefd8fa11c32ac7a1c170c9a66259",
    "collapsed": true,
    "jupyter": {
     "outputs_hidden": true
    }
   },
   "outputs": [],
   "source": []
  },
  {
   "cell_type": "code",
   "execution_count": 21,
   "metadata": {
    "_cell_guid": "40ce99f2-f588-4cf1-8881-7a3b7a611e47",
    "_uuid": "114ea850cc1601b8ff6b8572a82ab3400c0ec1a3",
    "execution": {
     "iopub.execute_input": "2023-02-06T20:55:21.712691Z",
     "iopub.status.busy": "2023-02-06T20:55:21.712235Z",
     "iopub.status.idle": "2023-02-06T20:55:49.661830Z",
     "shell.execute_reply": "2023-02-06T20:55:49.660844Z",
     "shell.execute_reply.started": "2023-02-06T20:55:21.712638Z"
    }
   },
   "outputs": [
    {
     "name": "stdout",
     "output_type": "stream",
     "text": [
      "['zhhh', 'ziar', 'zigi', 'ziwz', 'zkal', 'zkky', 'zknt', 'zkyh', 'zlik', 'zlzk', 'zpvm', 'zrgd', 'zrvi', 'ztvl', 'ztzk', 'zvbd', 'zvib', 'zvka', 'zwdl', 'zzvb']\n"
     ]
    }
   ],
   "source": [
    "# 3). ----- Train Test Split -----\n",
    "\n",
    "# Split Data\n",
    "X_train, X_test,y_train,y_test = train_test_split(data['sequence'], data['classification'], test_size = 0.2, random_state = 1)\n",
    "\n",
    "# Create a Count Vectorizer to gather the unique elements in sequence\n",
    "vect = CountVectorizer(analyzer = 'char_wb', ngram_range = (4,4))\n",
    "\n",
    "# Fit and Transform CountVectorizer\n",
    "vect.fit(X_train)\n",
    "X_train_df = vect.transform(X_train)\n",
    "X_test_df = vect.transform(X_test)\n",
    "\n",
    "#Print a few of the features\n",
    "print(vect.get_feature_names()[-20:])"
   ]
  },
  {
   "cell_type": "markdown",
   "metadata": {
    "_cell_guid": "d5b4a828-a058-41c4-906d-b19c79f95846",
    "_uuid": "dca1c75dde0c093050a44c40b729f2975ce4f475"
   },
   "source": [
    "### 4). Machine Learning Models\n",
    "\n",
    "With the features extracted, it's time to use machine learning models. Traditionally a Naive Bayes approach works well for these types of count vectorized features. Adaboost will be used as well for comparison."
   ]
  },
  {
   "cell_type": "code",
   "execution_count": 22,
   "metadata": {
    "_cell_guid": "79ff35e8-5f8f-4ebe-b0b3-f271194b792a",
    "_uuid": "c9bd9bcba12e2e6891356332c41b89465ea8d6ff",
    "execution": {
     "iopub.execute_input": "2023-02-06T20:55:49.663352Z",
     "iopub.status.busy": "2023-02-06T20:55:49.662972Z",
     "iopub.status.idle": "2023-02-06T20:55:51.053702Z",
     "shell.execute_reply": "2023-02-06T20:55:51.052976Z",
     "shell.execute_reply.started": "2023-02-06T20:55:49.663307Z"
    },
    "scrolled": true
   },
   "outputs": [
    {
     "name": "stdout",
     "output_type": "stream",
     "text": [
      "0.5542272482498654\n"
     ]
    }
   ],
   "source": [
    "# 4). ------ Machine Learning Models ------\n",
    "\n",
    "# Make a prediction dictionary to store accuracys\n",
    "prediction = dict()\n",
    "\n",
    "# Naive Bayes Model\n",
    "from sklearn.naive_bayes import MultinomialNB\n",
    "model = MultinomialNB()\n",
    "model.fit(X_train_df, y_train)\n",
    "NB_pred = model.predict(X_test_df)\n",
    "prediction[\"MultinomialNB\"] = accuracy_score(NB_pred, y_test)\n",
    "print( prediction['MultinomialNB'])"
   ]
  },
  {
   "cell_type": "code",
   "execution_count": 23,
   "metadata": {
    "_cell_guid": "4b0c9fad-a294-4780-8a76-38772095f1d4",
    "_uuid": "4ccc7c87d4504bbe818ca5b3cb6b7db9d9679184",
    "execution": {
     "iopub.execute_input": "2023-02-06T20:55:51.055225Z",
     "iopub.status.busy": "2023-02-06T20:55:51.054830Z",
     "iopub.status.idle": "2023-02-06T20:56:52.586138Z",
     "shell.execute_reply": "2023-02-06T20:56:52.585465Z",
     "shell.execute_reply.started": "2023-02-06T20:55:51.055178Z"
    }
   },
   "outputs": [
    {
     "name": "stdout",
     "output_type": "stream",
     "text": [
      "0.2555735056542811\n"
     ]
    }
   ],
   "source": [
    "# Adaboost\n",
    "from sklearn.ensemble import AdaBoostClassifier\n",
    "model = AdaBoostClassifier()\n",
    "model.fit(X_train_df,y_train)\n",
    "ADA_pred = model.predict(X_test_df)\n",
    "prediction[\"Adaboost\"] = accuracy_score(ADA_pred , y_test)\n",
    "print(prediction[\"Adaboost\"])"
   ]
  },
  {
   "cell_type": "markdown",
   "metadata": {
    "_cell_guid": "e697e42c-656c-47a9-8da4-5d56e54f8aef",
    "_uuid": "a81e40860024944997d99d2a7c43c79537d7e965"
   },
   "source": [
    "###5). Visualize Metrics\n",
    "It appears that Naive Bayes does better in classification than Adaboost. A visualization of a confusion matrix and a clasification report for the Navie Bayes prediction can aid in where the model performs poorly."
   ]
  },
  {
   "cell_type": "code",
   "execution_count": 24,
   "metadata": {
    "_cell_guid": "f2f52531-232c-430e-bbbe-4394c44d8ae9",
    "_uuid": "2b4fe4c714d989b2970198c9e73d843382c23726",
    "execution": {
     "iopub.execute_input": "2023-02-06T20:56:52.587529Z",
     "iopub.status.busy": "2023-02-06T20:56:52.587169Z",
     "iopub.status.idle": "2023-02-06T20:56:53.054231Z",
     "shell.execute_reply": "2023-02-06T20:56:53.053524Z",
     "shell.execute_reply.started": "2023-02-06T20:56:52.587484Z"
    }
   },
   "outputs": [
    {
     "data": {
      "text/plain": [
       "<matplotlib.axes._subplots.AxesSubplot at 0x7fc191d00588>"
      ]
     },
     "execution_count": 24,
     "metadata": {},
     "output_type": "execute_result"
    },
    {
     "data": {
      "image/png": "[encoded data removed]",
      "text/plain": [
       "<matplotlib.figure.Figure at 0x7fc191cd5dd8>"
      ]
     },
     "metadata": {},
     "output_type": "display_data"
    }
   ],
   "source": [
    "# 5). ----- Plot Confusion Matrix for NB -----\n",
    "\n",
    "# Plot confusion matrix\n",
    "conf_mat = confusion_matrix(y_test, NB_pred, labels = types)\n",
    "\n",
    "#Normalize confusion_matrix\n",
    "conf_mat = conf_mat.astype('float')/ conf_mat.sum(axis=1)[:, np.newaxis]\n",
    "\n",
    "# Plot Heat Map\n",
    "fig , ax = plt.subplots()\n",
    "fig.set_size_inches(13, 8)\n",
    "sns.heatmap(conf_mat)"
   ]
  },
  {
   "cell_type": "markdown",
   "metadata": {
    "_cell_guid": "5febce28-c4ec-4919-8e49-3c296915cb85",
    "_uuid": "07795bc135000576335758abefc0af5bd04f3fed"
   },
   "source": [
    "The confusion matrix shows label index 3 being misclassified as index 38 quite a bit. Based on the names listed below, it makes sense for these two to be confused."
   ]
  },
  {
   "cell_type": "code",
   "execution_count": 25,
   "metadata": {
    "_cell_guid": "ffb8245d-5094-4cdd-9478-1659989bc468",
    "_uuid": "49c43f6e2fd731d3fd7213e7a64e90aee6546361",
    "execution": {
     "iopub.execute_input": "2023-02-06T20:56:53.055624Z",
     "iopub.status.busy": "2023-02-06T20:56:53.055359Z",
     "iopub.status.idle": "2023-02-06T20:56:53.350022Z",
     "shell.execute_reply": "2023-02-06T20:56:53.297414Z",
     "shell.execute_reply.started": "2023-02-06T20:56:53.055558Z"
    }
   },
   "outputs": [
    {
     "name": "stdout",
     "output_type": "stream",
     "text": [
      "IMMUNE SYSTEM\n"
     ]
    },
    {
     "ename": "IndexError",
     "evalue": "index 38 is out of bounds for axis 0 with size 32",
     "output_type": "error",
     "traceback": [
      "\u001b[0;31m---------------------------------------------------------------------------\u001b[0m",
      "\u001b[0;31mIndexError\u001b[0m                                Traceback (most recent call last)",
      "\u001b[0;32m<ipython-input-25-cb75099d35fb>\u001b[0m in \u001b[0;36m<module>\u001b[0;34m()\u001b[0m\n\u001b[1;32m      1\u001b[0m \u001b[0mprint\u001b[0m\u001b[0;34m(\u001b[0m\u001b[0mtypes\u001b[0m\u001b[0;34m[\u001b[0m\u001b[0;36m3\u001b[0m\u001b[0;34m]\u001b[0m\u001b[0;34m)\u001b[0m\u001b[0;34m\u001b[0m\u001b[0m\n\u001b[0;32m----> 2\u001b[0;31m \u001b[0mprint\u001b[0m\u001b[0;34m(\u001b[0m\u001b[0mtypes\u001b[0m\u001b[0;34m[\u001b[0m\u001b[0;36m38\u001b[0m\u001b[0;34m]\u001b[0m\u001b[0;34m)\u001b[0m\u001b[0;34m\u001b[0m\u001b[0m\n\u001b[0m",
      "\u001b[0;31mIndexError\u001b[0m: index 38 is out of bounds for axis 0 with size 32"
     ]
    }
   ],
   "source": [
    "print(types[3])\n",
    "print(types[38])"
   ]
  },
  {
   "cell_type": "markdown",
   "metadata": {
    "_cell_guid": "d2232254-839a-4ce2-8a1e-c1f9b08d54ce",
    "_uuid": "bc850a72a5dc8a1d347bc83b2c9ad5c28db23ccb"
   },
   "source": [
    "Lastly, a matrix of the classification report to show case metrics for each class should be insightful"
   ]
  },
  {
   "cell_type": "code",
   "execution_count": null,
   "metadata": {
    "_cell_guid": "7ac87b31-716a-4767-b671-2db5e182ca4c",
    "_uuid": "325c030ba4b49928c869ea2a95cb390ff26ce870",
    "execution": {
     "iopub.status.busy": "2023-02-06T20:56:53.298037Z",
     "iopub.status.idle": "2023-02-06T20:56:53.298399Z"
    }
   },
   "outputs": [],
   "source": [
    "#Print F1 score metrics\n",
    "print(classification_report(y_test, NB_pred, target_names = types))"
   ]
  },
  {
   "cell_type": "markdown",
   "metadata": {
    "_cell_guid": "0ebc1e53-42e5-4653-afe1-ea409072943e",
    "_uuid": "6f4674cfbd1a43d656474a3862fe05b3569a8be5"
   },
   "source": [
    "### Reasons for Model Error\n",
    "Proteins in general can be a type of enzyme, or a signaling protein, structural, and various other choices. A lof of proteins tend to share very similar characteristics, as some proteins are meant to bind in similar regions as others. For example, a Hydrolase enzyme and a Hydrolase inhibitor protein are going to have similar structures as they will target very similar areas. This is reflected in the confusion matrix and heat map. Gene regulator proteins will have a similarity to RNA binding proteins, DNA binding proteins, as well as transcription proteins.  The biggest thing to note as well, as the model only uses features of 4 amino acids at most. The possibility of utilizing amino acids of higher degree in theory should be able to create an even higher accuracy.\n",
    "\n",
    "### Future Work\n",
    "There is definitely room for improvement for the model. Utilizing factors such as pH, molecular weight, and other components may be able to yield more information on family group. Furthermore, if possible, increase the length of the ngram_range to include more than just 4 characters to allow for higher interaction between the amino acids as reflected in reality\n",
    "\n"
   ]
  }
 ],
 "metadata": {
  "kernelspec": {
   "display_name": "Python 3 (ipykernel)",
   "language": "python",
   "name": "python3"
  },
  "language_info": {
   "codemirror_mode": {
    "name": "ipython",
    "version": 3
   },
   "file_extension": ".py",
   "mimetype": "text/x-python",
   "name": "python",
   "nbconvert_exporter": "python",
   "pygments_lexer": "ipython3",
   "version": "3.10.8"
  }
 },
 "nbformat": 4,
 "nbformat_minor": 4
}
