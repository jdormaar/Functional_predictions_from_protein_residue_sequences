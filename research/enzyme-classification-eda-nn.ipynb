{
 "cells": [
  {
   "cell_type": "markdown",
   "metadata": {},
   "source": [
    "# Problem Description"
   ]
  },
  {
   "cell_type": "markdown",
   "metadata": {},
   "source": [
    "1-Data"
   ]
  },
  {
   "cell_type": "markdown",
   "metadata": {},
   "source": [
    "The data consists of labelled amino acid sequences. Each sequence has a unique ID, the amino acid sequence, the organism it came from and the label. You must predict the label for the test set. Labels consist of one of 20 classes. There are ten organisms, 8 in the training set and 2 in the test set. Sequences above a set length have been excluded from this dataset"
   ]
  },
  {
   "cell_type": "markdown",
   "metadata": {},
   "source": [
    "2-Objective"
   ]
  },
  {
   "cell_type": "markdown",
   "metadata": {},
   "source": [
    "Create a model that classify the amino acid sequence"
   ]
  },
  {
   "cell_type": "code",
   "execution_count": 7,
   "metadata": {
    "_cell_guid": "b1076dfc-b9ad-4769-8c92-a6c4dae69d19",
    "_uuid": "8f2839f25d086af736a60e9eeb907d3b93b6e0e5",
    "execution": {
     "iopub.execute_input": "2023-02-07T01:36:51.372936Z",
     "iopub.status.busy": "2023-02-07T01:36:51.372533Z",
     "iopub.status.idle": "2023-02-07T01:36:51.383773Z",
     "shell.execute_reply": "2023-02-07T01:36:51.382667Z",
     "shell.execute_reply.started": "2023-02-07T01:36:51.372896Z"
    }
   },
   "outputs": [
    {
     "name": "stdout",
     "output_type": "stream",
     "text": [
      "/kaggle/input/instadeep-enzyme-classification-challenge/Train (4).csv\n",
      "/kaggle/input/instadeep-enzyme-classification-challenge/Test (3).csv\n",
      "/kaggle/input/instadeep-enzyme-classification-challenge/SampleSubmission (3).csv\n"
     ]
    }
   ],
   "source": [
    "# This Python 3 environment comes with many helpful analytics libraries installed\n",
    "# It is defined by the kaggle/python Docker image: https://github.com/kaggle/docker-python\n",
    "# For example, here's several helpful packages to load\n",
    "\n",
    "import numpy as np # linear algebra\n",
    "import pandas as pd # data processing, CSV file I/O (e.g. pd.read_csv)\n",
    "import time, logging, gc ,os\n",
    "\n",
    "# Input data files are available in the read-only \"../input/\" directory\n",
    "# For example, running this (by clicking run or pressing Shift+Enter) will list all files under the input directory\n",
    "\n",
    "for dirname, _, filenames in os.walk('/kaggle/input'):\n",
    "    for filename in filenames:\n",
    "        print(os.path.join(dirname, filename))\n",
    "\n",
    "# You can write up to 20GB to the current directory (/kaggle/working/) that gets preserved as output when you create a version using \"Save & Run All\" \n",
    "# You can also write temporary files to /kaggle/temp/, but they won't be saved outside of the current session"
   ]
  },
  {
   "cell_type": "code",
   "execution_count": 8,
   "metadata": {
    "execution": {
     "iopub.execute_input": "2023-02-07T01:36:51.386115Z",
     "iopub.status.busy": "2023-02-07T01:36:51.385840Z",
     "iopub.status.idle": "2023-02-07T01:36:51.403587Z",
     "shell.execute_reply": "2023-02-07T01:36:51.402188Z",
     "shell.execute_reply.started": "2023-02-07T01:36:51.386082Z"
    }
   },
   "outputs": [],
   "source": [
    "import tensorflow as tf\n",
    "import matplotlib.pyplot as plt\n",
    "import seaborn as sns\n",
    "from collections import Counter\n",
    "from prettytable import PrettyTable\n",
    "from IPython.display import Image\n",
    "from sklearn.preprocessing import LabelEncoder\n",
    "from tensorflow import keras\n",
    "from tensorflow.keras.regularizers import l2\n",
    "from tensorflow.keras.constraints import max_norm\n",
    "from tensorflow.keras.utils import to_categorical\n",
    "from tensorflow.keras.preprocessing.text import Tokenizer\n",
    "from tensorflow.keras.preprocessing.sequence import pad_sequences\n",
    "from tensorflow.keras.layers import Input, Dense, Dropout, Flatten, Activation\n",
    "from tensorflow.keras.layers import Conv1D, Add, MaxPooling1D, BatchNormalization\n",
    "from tensorflow.keras.layers import Embedding, Bidirectional, GlobalMaxPooling1D,LSTM\n",
    "from tensorflow.keras.models import *\n",
    "from tensorflow.keras.layers import *\n",
    "from tensorflow import keras\n",
    "from tensorflow.keras.models import Sequential\n",
    "from tensorflow.keras.layers import Activation, Dense,LSTM\n",
    "from tensorflow.keras.callbacks import ModelCheckpoint, EarlyStopping\n",
    "from sklearn.model_selection import train_test_split"
   ]
  },
  {
   "cell_type": "code",
   "execution_count": 9,
   "metadata": {
    "_cell_guid": "79c7e3d0-c299-4dcb-8224-4455121ee9b0",
    "_uuid": "d629ff2d2480ee46fbb7e2d37f6b5fab8052498a",
    "execution": {
     "iopub.execute_input": "2023-02-07T01:36:51.405439Z",
     "iopub.status.busy": "2023-02-07T01:36:51.405097Z",
     "iopub.status.idle": "2023-02-07T01:37:05.028833Z",
     "shell.execute_reply": "2023-02-07T01:37:05.027591Z",
     "shell.execute_reply.started": "2023-02-07T01:36:51.405390Z"
    }
   },
   "outputs": [],
   "source": [
    "DIR = '../input/instadeep-enzyme-classification-challenge/'\n",
    "train=pd.read_csv(DIR+'Train (4).csv')\n",
    "test=pd.read_csv(DIR+'Test (3).csv')\n",
    "sub=pd.read_csv(DIR+'SampleSubmission (3).csv')"
   ]
  },
  {
   "cell_type": "markdown",
   "metadata": {},
   "source": [
    "# EDA"
   ]
  },
  {
   "cell_type": "code",
   "execution_count": 10,
   "metadata": {
    "execution": {
     "iopub.execute_input": "2023-02-07T01:37:05.030366Z",
     "iopub.status.busy": "2023-02-07T01:37:05.030055Z",
     "iopub.status.idle": "2023-02-07T01:37:05.038010Z",
     "shell.execute_reply": "2023-02-07T01:37:05.036734Z",
     "shell.execute_reply.started": "2023-02-07T01:37:05.030326Z"
    }
   },
   "outputs": [
    {
     "name": "stdout",
     "output_type": "stream",
     "text": [
      "Train size:  858777\n",
      "Test size:  253146\n"
     ]
    }
   ],
   "source": [
    "print('Train size: ', len(train))\n",
    "print('Test size: ', len(test))"
   ]
  },
  {
   "cell_type": "code",
   "execution_count": 11,
   "metadata": {
    "execution": {
     "iopub.execute_input": "2023-02-07T01:37:05.041488Z",
     "iopub.status.busy": "2023-02-07T01:37:05.041052Z",
     "iopub.status.idle": "2023-02-07T01:37:05.070344Z",
     "shell.execute_reply": "2023-02-07T01:37:05.069346Z",
     "shell.execute_reply.started": "2023-02-07T01:37:05.041442Z"
    }
   },
   "outputs": [
    {
     "data": {
      "text/html": [
       "<div>\n",
       "<style scoped>\n",
       "    .dataframe tbody tr th:only-of-type {\n",
       "        vertical-align: middle;\n",
       "    }\n",
       "\n",
       "    .dataframe tbody tr th {\n",
       "        vertical-align: top;\n",
       "    }\n",
       "\n",
       "    .dataframe thead th {\n",
       "        text-align: right;\n",
       "    }\n",
       "</style>\n",
       "<table border=\"1\" class=\"dataframe\">\n",
       "  <thead>\n",
       "    <tr style=\"text-align: right;\">\n",
       "      <th></th>\n",
       "      <th>SEQUENCE_ID</th>\n",
       "      <th>SEQUENCE</th>\n",
       "      <th>CREATURE</th>\n",
       "      <th>LABEL</th>\n",
       "    </tr>\n",
       "  </thead>\n",
       "  <tbody>\n",
       "    <tr>\n",
       "      <th>0</th>\n",
       "      <td>00011UBJ</td>\n",
       "      <td>MPWQELSITVPHEYVEPISYLFGRYGKGVSTELAGNGQVLLRTYLT...</td>\n",
       "      <td>creature9</td>\n",
       "      <td>class11</td>\n",
       "    </tr>\n",
       "    <tr>\n",
       "      <th>1</th>\n",
       "      <td>0001HZ3P</td>\n",
       "      <td>MGKLVIGSRGSELALWQANHIKERLKKECLIESEIQIVKTKGDKIL...</td>\n",
       "      <td>creature3</td>\n",
       "      <td>class13</td>\n",
       "    </tr>\n",
       "    <tr>\n",
       "      <th>2</th>\n",
       "      <td>0003NJDO</td>\n",
       "      <td>MFIVAVLMLAFLIFVHELGHFTIARICGVKVEVFSIGFGKKLCFFK...</td>\n",
       "      <td>creature3</td>\n",
       "      <td>class16</td>\n",
       "    </tr>\n",
       "  </tbody>\n",
       "</table>\n",
       "</div>"
      ],
      "text/plain": [
       "  SEQUENCE_ID                                           SEQUENCE   CREATURE  \\\n",
       "0    00011UBJ  MPWQELSITVPHEYVEPISYLFGRYGKGVSTELAGNGQVLLRTYLT...  creature9   \n",
       "1    0001HZ3P  MGKLVIGSRGSELALWQANHIKERLKKECLIESEIQIVKTKGDKIL...  creature3   \n",
       "2    0003NJDO  MFIVAVLMLAFLIFVHELGHFTIARICGVKVEVFSIGFGKKLCFFK...  creature3   \n",
       "\n",
       "     LABEL  \n",
       "0  class11  \n",
       "1  class13  \n",
       "2  class16  "
      ]
     },
     "execution_count": 11,
     "metadata": {},
     "output_type": "execute_result"
    }
   ],
   "source": [
    "train.head(3)"
   ]
  },
  {
   "cell_type": "code",
   "execution_count": 12,
   "metadata": {
    "execution": {
     "iopub.execute_input": "2023-02-07T01:37:05.072443Z",
     "iopub.status.busy": "2023-02-07T01:37:05.071710Z",
     "iopub.status.idle": "2023-02-07T01:37:07.667299Z",
     "shell.execute_reply": "2023-02-07T01:37:07.666377Z",
     "shell.execute_reply.started": "2023-02-07T01:37:05.072400Z"
    }
   },
   "outputs": [
    {
     "data": {
      "text/html": [
       "<div>\n",
       "<style scoped>\n",
       "    .dataframe tbody tr th:only-of-type {\n",
       "        vertical-align: middle;\n",
       "    }\n",
       "\n",
       "    .dataframe tbody tr th {\n",
       "        vertical-align: top;\n",
       "    }\n",
       "\n",
       "    .dataframe thead th {\n",
       "        text-align: right;\n",
       "    }\n",
       "</style>\n",
       "<table border=\"1\" class=\"dataframe\">\n",
       "  <thead>\n",
       "    <tr style=\"text-align: right;\">\n",
       "      <th></th>\n",
       "      <th>SEQUENCE_ID</th>\n",
       "      <th>SEQUENCE</th>\n",
       "      <th>CREATURE</th>\n",
       "      <th>LABEL</th>\n",
       "    </tr>\n",
       "  </thead>\n",
       "  <tbody>\n",
       "    <tr>\n",
       "      <th>count</th>\n",
       "      <td>858777</td>\n",
       "      <td>858777</td>\n",
       "      <td>858777</td>\n",
       "      <td>858777</td>\n",
       "    </tr>\n",
       "    <tr>\n",
       "      <th>unique</th>\n",
       "      <td>858777</td>\n",
       "      <td>816700</td>\n",
       "      <td>8</td>\n",
       "      <td>20</td>\n",
       "    </tr>\n",
       "    <tr>\n",
       "      <th>top</th>\n",
       "      <td>00011UBJ</td>\n",
       "      <td>FFRENLAFPEGEAREFPSEQTRAIGPTRGEPQVWGRSSNSLSEAGG...</td>\n",
       "      <td>creature8</td>\n",
       "      <td>class19</td>\n",
       "    </tr>\n",
       "    <tr>\n",
       "      <th>freq</th>\n",
       "      <td>1</td>\n",
       "      <td>201</td>\n",
       "      <td>140738</td>\n",
       "      <td>256273</td>\n",
       "    </tr>\n",
       "  </tbody>\n",
       "</table>\n",
       "</div>"
      ],
      "text/plain": [
       "       SEQUENCE_ID                                           SEQUENCE  \\\n",
       "count       858777                                             858777   \n",
       "unique      858777                                             816700   \n",
       "top       00011UBJ  FFRENLAFPEGEAREFPSEQTRAIGPTRGEPQVWGRSSNSLSEAGG...   \n",
       "freq             1                                                201   \n",
       "\n",
       "         CREATURE    LABEL  \n",
       "count      858777   858777  \n",
       "unique          8       20  \n",
       "top     creature8  class19  \n",
       "freq       140738   256273  "
      ]
     },
     "execution_count": 12,
     "metadata": {},
     "output_type": "execute_result"
    }
   ],
   "source": [
    "train.describe()"
   ]
  },
  {
   "cell_type": "code",
   "execution_count": 13,
   "metadata": {
    "execution": {
     "iopub.execute_input": "2023-02-07T01:37:07.668928Z",
     "iopub.status.busy": "2023-02-07T01:37:07.668675Z",
     "iopub.status.idle": "2023-02-07T01:37:07.917132Z",
     "shell.execute_reply": "2023-02-07T01:37:07.916259Z",
     "shell.execute_reply.started": "2023-02-07T01:37:07.668901Z"
    }
   },
   "outputs": [
    {
     "data": {
      "text/plain": [
       "SEQUENCE_ID    0\n",
       "SEQUENCE       0\n",
       "CREATURE       0\n",
       "LABEL          0\n",
       "dtype: int64"
      ]
     },
     "execution_count": 13,
     "metadata": {},
     "output_type": "execute_result"
    }
   ],
   "source": [
    "#Check if ther'is null values\n",
    "train.isnull().sum()"
   ]
  },
  {
   "cell_type": "code",
   "execution_count": 14,
   "metadata": {
    "execution": {
     "iopub.execute_input": "2023-02-07T01:37:07.918813Z",
     "iopub.status.busy": "2023-02-07T01:37:07.918567Z",
     "iopub.status.idle": "2023-02-07T01:37:09.271583Z",
     "shell.execute_reply": "2023-02-07T01:37:09.270612Z",
     "shell.execute_reply.started": "2023-02-07T01:37:07.918787Z"
    }
   },
   "outputs": [],
   "source": [
    "#Remove redundant samples\n",
    "train=train.drop_duplicates(subset=['SEQUENCE', 'LABEL'], keep='first')"
   ]
  },
  {
   "cell_type": "code",
   "execution_count": 15,
   "metadata": {
    "execution": {
     "iopub.execute_input": "2023-02-07T01:37:09.273349Z",
     "iopub.status.busy": "2023-02-07T01:37:09.273025Z",
     "iopub.status.idle": "2023-02-07T01:37:09.324914Z",
     "shell.execute_reply": "2023-02-07T01:37:09.323838Z",
     "shell.execute_reply.started": "2023-02-07T01:37:09.273317Z"
    }
   },
   "outputs": [
    {
     "data": {
      "text/plain": [
       "'MPWQELSITVPHEYVEPISYLFGRYGKGVSTELAGNGQVLLRTYLTTGSRQRMARIDVGVRLVGAIESIGDLIVRELPDDEDWMNSWKSHFKILRVGKRLVIKPTWLELDETIKLDDIVIELDPGIAFGTGYHPTTDTCMQAMEQHITPGMAVLDLGTGSGILAITAMKLGAGKVTALDIDSQAVSAARRNFKRTGISKQIRLGQGSVPHPTAPAAEFDLAVANISARGVVDRCPFILTALKPGALFIASGLLATQKPEVANAVEPLGFSLVSEWPQEEWVTLLYRAPDSPIVASE'"
      ]
     },
     "execution_count": 15,
     "metadata": {},
     "output_type": "execute_result"
    }
   ],
   "source": [
    "#example of protein sequence\n",
    "train.SEQUENCE[0]"
   ]
  },
  {
   "cell_type": "code",
   "execution_count": 16,
   "metadata": {
    "execution": {
     "iopub.execute_input": "2023-02-07T01:37:09.326711Z",
     "iopub.status.busy": "2023-02-07T01:37:09.326426Z",
     "iopub.status.idle": "2023-02-07T01:37:09.861838Z",
     "shell.execute_reply": "2023-02-07T01:37:09.861064Z",
     "shell.execute_reply.started": "2023-02-07T01:37:09.326680Z"
    }
   },
   "outputs": [
    {
     "data": {
      "text/plain": [
       "count    816950.000000\n",
       "mean        402.879796\n",
       "std         208.101618\n",
       "min          16.000000\n",
       "25%         262.000000\n",
       "50%         379.000000\n",
       "75%         476.000000\n",
       "max        1234.000000\n",
       "Name: SEQUENCE, dtype: float64"
      ]
     },
     "execution_count": 16,
     "metadata": {},
     "output_type": "execute_result"
    }
   ],
   "source": [
    "#length of Sequence\n",
    "train.SEQUENCE.apply(lambda x : len(x)).describe()"
   ]
  },
  {
   "cell_type": "code",
   "execution_count": 17,
   "metadata": {
    "execution": {
     "iopub.execute_input": "2023-02-07T01:37:09.863441Z",
     "iopub.status.busy": "2023-02-07T01:37:09.863175Z",
     "iopub.status.idle": "2023-02-07T01:37:10.508240Z",
     "shell.execute_reply": "2023-02-07T01:37:10.507304Z",
     "shell.execute_reply.started": "2023-02-07T01:37:09.863414Z"
    }
   },
   "outputs": [],
   "source": [
    "# Length of sequence in train & test data.\n",
    "train['seq_count']= train['SEQUENCE'].apply(lambda x: len(x))\n",
    "test['seq_count']= test['SEQUENCE'].apply(lambda x: len(x))"
   ]
  },
  {
   "cell_type": "code",
   "execution_count": 18,
   "metadata": {
    "execution": {
     "iopub.execute_input": "2023-02-07T01:37:10.509858Z",
     "iopub.status.busy": "2023-02-07T01:37:10.509531Z",
     "iopub.status.idle": "2023-02-07T01:37:10.515032Z",
     "shell.execute_reply": "2023-02-07T01:37:10.514004Z",
     "shell.execute_reply.started": "2023-02-07T01:37:10.509817Z"
    }
   },
   "outputs": [],
   "source": [
    "def plot_seq_count(df, data_name):\n",
    "  sns.distplot(df['seq_count'].values)\n",
    "  plt.title(f'Sequence char count: {data_name}')\n",
    "  plt.grid(True)"
   ]
  },
  {
   "cell_type": "code",
   "execution_count": 19,
   "metadata": {
    "execution": {
     "iopub.execute_input": "2023-02-07T01:37:10.517142Z",
     "iopub.status.busy": "2023-02-07T01:37:10.516798Z",
     "iopub.status.idle": "2023-02-07T01:37:17.083191Z",
     "shell.execute_reply": "2023-02-07T01:37:17.082200Z",
     "shell.execute_reply.started": "2023-02-07T01:37:10.517104Z"
    }
   },
   "outputs": [
    {
     "name": "stderr",
     "output_type": "stream",
     "text": [
      "/opt/conda/lib/python3.7/site-packages/seaborn/distributions.py:2619: FutureWarning: `distplot` is a deprecated function and will be removed in a future version. Please adapt your code to use either `displot` (a figure-level function with similar flexibility) or `histplot` (an axes-level function for histograms).\n",
      "  warnings.warn(msg, FutureWarning)\n",
      "/opt/conda/lib/python3.7/site-packages/seaborn/distributions.py:2619: FutureWarning: `distplot` is a deprecated function and will be removed in a future version. Please adapt your code to use either `displot` (a figure-level function with similar flexibility) or `histplot` (an axes-level function for histograms).\n",
      "  warnings.warn(msg, FutureWarning)\n"
     ]
    },
    {
     "data": {
      "image/png": "[encoded data removed]",
      "text/plain": [
       "<Figure size 432x288 with 2 Axes>"
      ]
     },
     "metadata": {
      "needs_background": "light"
     },
     "output_type": "display_data"
    }
   ],
   "source": [
    "plt.subplot(1, 2, 1)\n",
    "plot_seq_count(train, 'Train')\n",
    "\n",
    "plt.subplot(1, 2, 2)\n",
    "plot_seq_count(test, 'Test')\n",
    "\n",
    "plt.subplots_adjust(right=3.0)\n",
    "plt.show()"
   ]
  },
  {
   "cell_type": "code",
   "execution_count": 20,
   "metadata": {
    "execution": {
     "iopub.execute_input": "2023-02-07T01:37:17.088284Z",
     "iopub.status.busy": "2023-02-07T01:37:17.087987Z",
     "iopub.status.idle": "2023-02-07T01:37:17.096558Z",
     "shell.execute_reply": "2023-02-07T01:37:17.095214Z",
     "shell.execute_reply.started": "2023-02-07T01:37:17.088253Z"
    }
   },
   "outputs": [],
   "source": [
    "def get_code_freq(df, data_name):\n",
    "  \n",
    "  df = df.apply(lambda x: \" \".join(x))\n",
    "  \n",
    "  codes = []\n",
    "  for i in df: # concatination of all codes\n",
    "    codes.extend(i)\n",
    "\n",
    "  codes_dict= Counter(codes)\n",
    "  codes_dict.pop(' ') # removing white space\n",
    "  print(f'Codes: {data_name}')\n",
    "  print(f'Total unique codes: {len(codes_dict.keys())}')\n",
    "  df = pd.DataFrame({'Code': list(codes_dict.keys()), 'Freq': list(codes_dict.values())})\n",
    "  return df.sort_values('Freq', ascending=False).reset_index()[['Code', 'Freq']]\n",
    "\n",
    "def plot_code_freq(df, data_name):\n",
    "  plt.title(f'Code frequency: {data_name}')\n",
    "  sns.barplot(x='Code', y='Freq', data=df)"
   ]
  },
  {
   "cell_type": "code",
   "execution_count": 21,
   "metadata": {
    "execution": {
     "iopub.execute_input": "2023-02-07T01:37:17.098389Z",
     "iopub.status.busy": "2023-02-07T01:37:17.098034Z",
     "iopub.status.idle": "2023-02-07T01:38:24.640294Z",
     "shell.execute_reply": "2023-02-07T01:38:24.639653Z",
     "shell.execute_reply.started": "2023-02-07T01:37:17.098346Z"
    }
   },
   "outputs": [
    {
     "name": "stdout",
     "output_type": "stream",
     "text": [
      "Codes: Train\n",
      "Total unique codes: 24\n"
     ]
    },
    {
     "data": {
      "text/html": [
       "<div>\n",
       "<style scoped>\n",
       "    .dataframe tbody tr th:only-of-type {\n",
       "        vertical-align: middle;\n",
       "    }\n",
       "\n",
       "    .dataframe tbody tr th {\n",
       "        vertical-align: top;\n",
       "    }\n",
       "\n",
       "    .dataframe thead th {\n",
       "        text-align: right;\n",
       "    }\n",
       "</style>\n",
       "<table border=\"1\" class=\"dataframe\">\n",
       "  <thead>\n",
       "    <tr style=\"text-align: right;\">\n",
       "      <th></th>\n",
       "      <th>Code</th>\n",
       "      <th>Freq</th>\n",
       "    </tr>\n",
       "  </thead>\n",
       "  <tbody>\n",
       "    <tr>\n",
       "      <th>0</th>\n",
       "      <td>L</td>\n",
       "      <td>33132419</td>\n",
       "    </tr>\n",
       "    <tr>\n",
       "      <th>1</th>\n",
       "      <td>A</td>\n",
       "      <td>29148848</td>\n",
       "    </tr>\n",
       "    <tr>\n",
       "      <th>2</th>\n",
       "      <td>G</td>\n",
       "      <td>24797034</td>\n",
       "    </tr>\n",
       "    <tr>\n",
       "      <th>3</th>\n",
       "      <td>V</td>\n",
       "      <td>22652087</td>\n",
       "    </tr>\n",
       "    <tr>\n",
       "      <th>4</th>\n",
       "      <td>E</td>\n",
       "      <td>22130013</td>\n",
       "    </tr>\n",
       "    <tr>\n",
       "      <th>5</th>\n",
       "      <td>I</td>\n",
       "      <td>21153868</td>\n",
       "    </tr>\n",
       "    <tr>\n",
       "      <th>6</th>\n",
       "      <td>K</td>\n",
       "      <td>19490664</td>\n",
       "    </tr>\n",
       "    <tr>\n",
       "      <th>7</th>\n",
       "      <td>D</td>\n",
       "      <td>18311065</td>\n",
       "    </tr>\n",
       "    <tr>\n",
       "      <th>8</th>\n",
       "      <td>R</td>\n",
       "      <td>18307046</td>\n",
       "    </tr>\n",
       "    <tr>\n",
       "      <th>9</th>\n",
       "      <td>S</td>\n",
       "      <td>17326939</td>\n",
       "    </tr>\n",
       "    <tr>\n",
       "      <th>10</th>\n",
       "      <td>T</td>\n",
       "      <td>17055641</td>\n",
       "    </tr>\n",
       "    <tr>\n",
       "      <th>11</th>\n",
       "      <td>P</td>\n",
       "      <td>16634241</td>\n",
       "    </tr>\n",
       "    <tr>\n",
       "      <th>12</th>\n",
       "      <td>Q</td>\n",
       "      <td>12967915</td>\n",
       "    </tr>\n",
       "    <tr>\n",
       "      <th>13</th>\n",
       "      <td>F</td>\n",
       "      <td>12032423</td>\n",
       "    </tr>\n",
       "    <tr>\n",
       "      <th>14</th>\n",
       "      <td>N</td>\n",
       "      <td>11808365</td>\n",
       "    </tr>\n",
       "    <tr>\n",
       "      <th>15</th>\n",
       "      <td>Y</td>\n",
       "      <td>9116894</td>\n",
       "    </tr>\n",
       "    <tr>\n",
       "      <th>16</th>\n",
       "      <td>H</td>\n",
       "      <td>7238001</td>\n",
       "    </tr>\n",
       "    <tr>\n",
       "      <th>17</th>\n",
       "      <td>M</td>\n",
       "      <td>7113209</td>\n",
       "    </tr>\n",
       "    <tr>\n",
       "      <th>18</th>\n",
       "      <td>W</td>\n",
       "      <td>4647670</td>\n",
       "    </tr>\n",
       "    <tr>\n",
       "      <th>19</th>\n",
       "      <td>C</td>\n",
       "      <td>3461572</td>\n",
       "    </tr>\n",
       "    <tr>\n",
       "      <th>20</th>\n",
       "      <td>X</td>\n",
       "      <td>601014</td>\n",
       "    </tr>\n",
       "    <tr>\n",
       "      <th>21</th>\n",
       "      <td>B</td>\n",
       "      <td>3780</td>\n",
       "    </tr>\n",
       "    <tr>\n",
       "      <th>22</th>\n",
       "      <td>Z</td>\n",
       "      <td>1760</td>\n",
       "    </tr>\n",
       "    <tr>\n",
       "      <th>23</th>\n",
       "      <td>U</td>\n",
       "      <td>181</td>\n",
       "    </tr>\n",
       "  </tbody>\n",
       "</table>\n",
       "</div>"
      ],
      "text/plain": [
       "   Code      Freq\n",
       "0     L  33132419\n",
       "1     A  29148848\n",
       "2     G  24797034\n",
       "3     V  22652087\n",
       "4     E  22130013\n",
       "5     I  21153868\n",
       "6     K  19490664\n",
       "7     D  18311065\n",
       "8     R  18307046\n",
       "9     S  17326939\n",
       "10    T  17055641\n",
       "11    P  16634241\n",
       "12    Q  12967915\n",
       "13    F  12032423\n",
       "14    N  11808365\n",
       "15    Y   9116894\n",
       "16    H   7238001\n",
       "17    M   7113209\n",
       "18    W   4647670\n",
       "19    C   3461572\n",
       "20    X    601014\n",
       "21    B      3780\n",
       "22    Z      1760\n",
       "23    U       181"
      ]
     },
     "execution_count": 21,
     "metadata": {},
     "output_type": "execute_result"
    }
   ],
   "source": [
    "train_code_freq = get_code_freq(train['SEQUENCE'], 'Train')\n",
    "train_code_freq"
   ]
  },
  {
   "cell_type": "code",
   "execution_count": 22,
   "metadata": {
    "execution": {
     "iopub.execute_input": "2023-02-07T01:38:24.641446Z",
     "iopub.status.busy": "2023-02-07T01:38:24.641208Z",
     "iopub.status.idle": "2023-02-07T01:38:43.509357Z",
     "shell.execute_reply": "2023-02-07T01:38:43.507446Z",
     "shell.execute_reply.started": "2023-02-07T01:38:24.641420Z"
    }
   },
   "outputs": [
    {
     "name": "stdout",
     "output_type": "stream",
     "text": [
      "Codes: Test\n",
      "Total unique codes: 22\n"
     ]
    },
    {
     "data": {
      "text/html": [
       "<div>\n",
       "<style scoped>\n",
       "    .dataframe tbody tr th:only-of-type {\n",
       "        vertical-align: middle;\n",
       "    }\n",
       "\n",
       "    .dataframe tbody tr th {\n",
       "        vertical-align: top;\n",
       "    }\n",
       "\n",
       "    .dataframe thead th {\n",
       "        text-align: right;\n",
       "    }\n",
       "</style>\n",
       "<table border=\"1\" class=\"dataframe\">\n",
       "  <thead>\n",
       "    <tr style=\"text-align: right;\">\n",
       "      <th></th>\n",
       "      <th>Code</th>\n",
       "      <th>Freq</th>\n",
       "    </tr>\n",
       "  </thead>\n",
       "  <tbody>\n",
       "    <tr>\n",
       "      <th>0</th>\n",
       "      <td>L</td>\n",
       "      <td>10305566</td>\n",
       "    </tr>\n",
       "    <tr>\n",
       "      <th>1</th>\n",
       "      <td>A</td>\n",
       "      <td>9796485</td>\n",
       "    </tr>\n",
       "    <tr>\n",
       "      <th>2</th>\n",
       "      <td>G</td>\n",
       "      <td>7315191</td>\n",
       "    </tr>\n",
       "    <tr>\n",
       "      <th>3</th>\n",
       "      <td>V</td>\n",
       "      <td>6659944</td>\n",
       "    </tr>\n",
       "    <tr>\n",
       "      <th>4</th>\n",
       "      <td>E</td>\n",
       "      <td>5978780</td>\n",
       "    </tr>\n",
       "    <tr>\n",
       "      <th>5</th>\n",
       "      <td>R</td>\n",
       "      <td>5927049</td>\n",
       "    </tr>\n",
       "    <tr>\n",
       "      <th>6</th>\n",
       "      <td>D</td>\n",
       "      <td>5447698</td>\n",
       "    </tr>\n",
       "    <tr>\n",
       "      <th>7</th>\n",
       "      <td>S</td>\n",
       "      <td>5176983</td>\n",
       "    </tr>\n",
       "    <tr>\n",
       "      <th>8</th>\n",
       "      <td>I</td>\n",
       "      <td>5127870</td>\n",
       "    </tr>\n",
       "    <tr>\n",
       "      <th>9</th>\n",
       "      <td>T</td>\n",
       "      <td>4790625</td>\n",
       "    </tr>\n",
       "    <tr>\n",
       "      <th>10</th>\n",
       "      <td>P</td>\n",
       "      <td>4590688</td>\n",
       "    </tr>\n",
       "    <tr>\n",
       "      <th>11</th>\n",
       "      <td>Q</td>\n",
       "      <td>4295253</td>\n",
       "    </tr>\n",
       "    <tr>\n",
       "      <th>12</th>\n",
       "      <td>K</td>\n",
       "      <td>3870179</td>\n",
       "    </tr>\n",
       "    <tr>\n",
       "      <th>13</th>\n",
       "      <td>F</td>\n",
       "      <td>3465332</td>\n",
       "    </tr>\n",
       "    <tr>\n",
       "      <th>14</th>\n",
       "      <td>N</td>\n",
       "      <td>3422029</td>\n",
       "    </tr>\n",
       "    <tr>\n",
       "      <th>15</th>\n",
       "      <td>Y</td>\n",
       "      <td>2579934</td>\n",
       "    </tr>\n",
       "    <tr>\n",
       "      <th>16</th>\n",
       "      <td>M</td>\n",
       "      <td>2406994</td>\n",
       "    </tr>\n",
       "    <tr>\n",
       "      <th>17</th>\n",
       "      <td>H</td>\n",
       "      <td>2401894</td>\n",
       "    </tr>\n",
       "    <tr>\n",
       "      <th>18</th>\n",
       "      <td>W</td>\n",
       "      <td>1362744</td>\n",
       "    </tr>\n",
       "    <tr>\n",
       "      <th>19</th>\n",
       "      <td>C</td>\n",
       "      <td>1113107</td>\n",
       "    </tr>\n",
       "    <tr>\n",
       "      <th>20</th>\n",
       "      <td>X</td>\n",
       "      <td>1717</td>\n",
       "    </tr>\n",
       "    <tr>\n",
       "      <th>21</th>\n",
       "      <td>U</td>\n",
       "      <td>2</td>\n",
       "    </tr>\n",
       "  </tbody>\n",
       "</table>\n",
       "</div>"
      ],
      "text/plain": [
       "   Code      Freq\n",
       "0     L  10305566\n",
       "1     A   9796485\n",
       "2     G   7315191\n",
       "3     V   6659944\n",
       "4     E   5978780\n",
       "5     R   5927049\n",
       "6     D   5447698\n",
       "7     S   5176983\n",
       "8     I   5127870\n",
       "9     T   4790625\n",
       "10    P   4590688\n",
       "11    Q   4295253\n",
       "12    K   3870179\n",
       "13    F   3465332\n",
       "14    N   3422029\n",
       "15    Y   2579934\n",
       "16    M   2406994\n",
       "17    H   2401894\n",
       "18    W   1362744\n",
       "19    C   1113107\n",
       "20    X      1717\n",
       "21    U         2"
      ]
     },
     "execution_count": 22,
     "metadata": {},
     "output_type": "execute_result"
    }
   ],
   "source": [
    "test_code_freq = get_code_freq(test['SEQUENCE'], 'Test')\n",
    "test_code_freq"
   ]
  },
  {
   "cell_type": "code",
   "execution_count": 23,
   "metadata": {
    "execution": {
     "iopub.execute_input": "2023-02-07T01:38:43.511805Z",
     "iopub.status.busy": "2023-02-07T01:38:43.511465Z",
     "iopub.status.idle": "2023-02-07T01:38:44.163836Z",
     "shell.execute_reply": "2023-02-07T01:38:44.162625Z",
     "shell.execute_reply.started": "2023-02-07T01:38:43.511770Z"
    }
   },
   "outputs": [
    {
     "data": {
      "image/png": "[encoded data removed]",
      "text/plain": [
       "<Figure size 432x288 with 2 Axes>"
      ]
     },
     "metadata": {
      "needs_background": "light"
     },
     "output_type": "display_data"
    }
   ],
   "source": [
    "plt.subplot(1, 2, 1)\n",
    "plot_code_freq(train_code_freq, 'Train')\n",
    "plt.subplot(1, 2, 2)\n",
    "plot_code_freq(test_code_freq, 'Test')\n",
    "\n",
    "plt.subplots_adjust(right=3.0)\n",
    "plt.show()"
   ]
  },
  {
   "cell_type": "markdown",
   "metadata": {},
   "source": [
    "* amino acids  (X, U, B, Z)  are present in very less quantity\n",
    "* amino acids  (B, Z) are presented only in the training set "
   ]
  },
  {
   "cell_type": "code",
   "execution_count": 24,
   "metadata": {
    "execution": {
     "iopub.execute_input": "2023-02-07T01:38:44.165265Z",
     "iopub.status.busy": "2023-02-07T01:38:44.165013Z",
     "iopub.status.idle": "2023-02-07T01:38:44.626536Z",
     "shell.execute_reply": "2023-02-07T01:38:44.625840Z",
     "shell.execute_reply.started": "2023-02-07T01:38:44.165237Z"
    }
   },
   "outputs": [
    {
     "data": {
      "image/png": "[encoded data removed]",
      "text/plain": [
       "<Figure size 576x432 with 1 Axes>"
      ]
     },
     "metadata": {
      "needs_background": "light"
     },
     "output_type": "display_data"
    }
   ],
   "source": [
    "fig = plt.figure(figsize=(8,6))\n",
    "train.groupby('LABEL').SEQUENCE.count().plot.bar(ylim=0)\n",
    "plt.show()"
   ]
  },
  {
   "cell_type": "markdown",
   "metadata": {},
   "source": [
    "* we have unbalanced classes"
   ]
  },
  {
   "cell_type": "code",
   "execution_count": 25,
   "metadata": {
    "execution": {
     "iopub.execute_input": "2023-02-07T01:38:44.628046Z",
     "iopub.status.busy": "2023-02-07T01:38:44.627692Z",
     "iopub.status.idle": "2023-02-07T01:38:44.635154Z",
     "shell.execute_reply": "2023-02-07T01:38:44.634078Z",
     "shell.execute_reply.started": "2023-02-07T01:38:44.628018Z"
    }
   },
   "outputs": [
    {
     "name": "stdout",
     "output_type": "stream",
     "text": [
      "{'A': 1, 'C': 2, 'D': 3, 'E': 4, 'F': 5, 'G': 6, 'H': 7, 'I': 8, 'K': 9, 'L': 10, 'M': 11, 'N': 12, 'P': 13, 'Q': 14, 'R': 15, 'S': 16, 'T': 17, 'V': 18, 'W': 19, 'Y': 20}\n",
      "Dict Length: 20\n"
     ]
    }
   ],
   "source": [
    "codes = ['A', 'C', 'D', 'E', 'F', 'G', 'H', 'I', 'K', 'L',\n",
    "         'M', 'N', 'P', 'Q', 'R', 'S', 'T', 'V', 'W', 'Y']#,'B',X','U','Z']\n",
    "\n",
    "def create_dict(codes):\n",
    "  char_dict = {}\n",
    "  for index, val in enumerate(codes):\n",
    "    char_dict[val] = index+1\n",
    "  return char_dict\n",
    "char_dict = create_dict(codes)\n",
    "\n",
    "print(char_dict)\n",
    "print(\"Dict Length:\", len(char_dict))"
   ]
  },
  {
   "cell_type": "markdown",
   "metadata": {},
   "source": [
    "* We will not consider amino acids that are present in very less quantity"
   ]
  },
  {
   "cell_type": "code",
   "execution_count": 26,
   "metadata": {
    "execution": {
     "iopub.execute_input": "2023-02-07T01:38:44.637711Z",
     "iopub.status.busy": "2023-02-07T01:38:44.636634Z",
     "iopub.status.idle": "2023-02-07T01:38:44.646161Z",
     "shell.execute_reply": "2023-02-07T01:38:44.645331Z",
     "shell.execute_reply.started": "2023-02-07T01:38:44.637640Z"
    }
   },
   "outputs": [],
   "source": [
    "def integer_encoding(data):\n",
    "  \"\"\"\n",
    "  - Encodes code sequence to integer values.\n",
    "  - 20 common amino acids are taken into consideration\n",
    "    and rest 4 are categorized as 0.\n",
    "  \"\"\"\n",
    "  \n",
    "  encode_list = []\n",
    "  for row in data.values:\n",
    "    row_encode = []\n",
    "    for code in row:\n",
    "      row_encode.append(char_dict.get(code, 0))\n",
    "    encode_list.append(np.array(row_encode))\n",
    "  \n",
    "  return encode_list"
   ]
  },
  {
   "cell_type": "code",
   "execution_count": 27,
   "metadata": {
    "execution": {
     "iopub.execute_input": "2023-02-07T01:38:44.647691Z",
     "iopub.status.busy": "2023-02-07T01:38:44.647216Z",
     "iopub.status.idle": "2023-02-07T01:38:44.881029Z",
     "shell.execute_reply": "2023-02-07T01:38:44.879922Z",
     "shell.execute_reply.started": "2023-02-07T01:38:44.647662Z"
    }
   },
   "outputs": [],
   "source": [
    "#apply label encoding to classes\n",
    "le = LabelEncoder()\n",
    "train.LABEL = le.fit_transform(train['LABEL'])"
   ]
  },
  {
   "cell_type": "code",
   "execution_count": 28,
   "metadata": {
    "execution": {
     "iopub.execute_input": "2023-02-07T01:38:44.882557Z",
     "iopub.status.busy": "2023-02-07T01:38:44.882272Z",
     "iopub.status.idle": "2023-02-07T01:38:45.460263Z",
     "shell.execute_reply": "2023-02-07T01:38:45.459457Z",
     "shell.execute_reply.started": "2023-02-07T01:38:44.882526Z"
    }
   },
   "outputs": [],
   "source": [
    "#Split our data into train and validation \n",
    "X_train, X_val, y_train, y_val = train_test_split(train.SEQUENCE,train.LABEL, test_size=0.2, random_state=42,stratify=train['LABEL'])"
   ]
  },
  {
   "cell_type": "code",
   "execution_count": 29,
   "metadata": {
    "execution": {
     "iopub.execute_input": "2023-02-07T01:38:45.461998Z",
     "iopub.status.busy": "2023-02-07T01:38:45.461662Z",
     "iopub.status.idle": "2023-02-07T01:40:53.102924Z",
     "shell.execute_reply": "2023-02-07T01:40:53.101410Z",
     "shell.execute_reply.started": "2023-02-07T01:38:45.461969Z"
    }
   },
   "outputs": [],
   "source": [
    "# encode our data\n",
    "X_train = integer_encoding(X_train) \n",
    "X_val = integer_encoding(X_val) \n",
    "test_data = integer_encoding(test.SEQUENCE)"
   ]
  },
  {
   "cell_type": "code",
   "execution_count": 30,
   "metadata": {
    "execution": {
     "iopub.execute_input": "2023-02-07T01:40:53.105909Z",
     "iopub.status.busy": "2023-02-07T01:40:53.105309Z",
     "iopub.status.idle": "2023-02-07T01:40:56.748930Z",
     "shell.execute_reply": "2023-02-07T01:40:56.747960Z",
     "shell.execute_reply.started": "2023-02-07T01:40:53.105859Z"
    }
   },
   "outputs": [
    {
     "data": {
      "text/plain": [
       "((653560, 150), (163390, 150), (253146, 150))"
      ]
     },
     "execution_count": 30,
     "metadata": {},
     "output_type": "execute_result"
    }
   ],
   "source": [
    "#we will take just the first 150 amino acid in the sequence\n",
    "max_length = 150\n",
    "train_pad = pad_sequences(X_train, maxlen=max_length, padding='post', truncating='post')\n",
    "val_pad = pad_sequences(X_val, maxlen=max_length, padding='post', truncating='post')\n",
    "test_pad = pad_sequences(test_data, maxlen=max_length, padding='post', truncating='post')\n",
    "\n",
    "train_pad.shape, val_pad.shape, test_pad.shape"
   ]
  },
  {
   "cell_type": "code",
   "execution_count": 31,
   "metadata": {
    "execution": {
     "iopub.execute_input": "2023-02-07T01:40:56.750531Z",
     "iopub.status.busy": "2023-02-07T01:40:56.750270Z",
     "iopub.status.idle": "2023-02-07T01:40:56.815398Z",
     "shell.execute_reply": "2023-02-07T01:40:56.814364Z",
     "shell.execute_reply.started": "2023-02-07T01:40:56.750503Z"
    }
   },
   "outputs": [
    {
     "data": {
      "text/plain": [
       "((653560, 20), (163390, 20))"
      ]
     },
     "execution_count": 31,
     "metadata": {},
     "output_type": "execute_result"
    }
   ],
   "source": [
    "# One hot encoding of label\n",
    "y_train = to_categorical(y_train)\n",
    "y_val = to_categorical(y_val)\n",
    "y_train.shape, y_val.shape"
   ]
  },
  {
   "cell_type": "code",
   "execution_count": 32,
   "metadata": {
    "execution": {
     "iopub.execute_input": "2023-02-07T01:40:56.817735Z",
     "iopub.status.busy": "2023-02-07T01:40:56.817373Z",
     "iopub.status.idle": "2023-02-07T01:41:02.245136Z",
     "shell.execute_reply": "2023-02-07T01:41:02.244013Z",
     "shell.execute_reply.started": "2023-02-07T01:40:56.817695Z"
    }
   },
   "outputs": [
    {
     "name": "stdout",
     "output_type": "stream",
     "text": [
      "2.4.1\n"
     ]
    },
    {
     "name": "stderr",
     "output_type": "stream",
     "text": [
      "2023-02-07 01:40:56.849379: I tensorflow/compiler/jit/xla_cpu_device.cc:41] Not creating XLA devices, tf_xla_enable_xla_devices not set\n",
      "2023-02-07 01:40:56.853020: W tensorflow/stream_executor/platform/default/dso_loader.cc:60] Could not load dynamic library 'libcuda.so.1'; dlerror: libcuda.so.1: cannot open shared object file: No such file or directory; LD_LIBRARY_PATH: /opt/conda/lib\n",
      "2023-02-07 01:40:56.853089: W tensorflow/stream_executor/cuda/cuda_driver.cc:326] failed call to cuInit: UNKNOWN ERROR (303)\n",
      "2023-02-07 01:40:56.853156: I tensorflow/stream_executor/cuda/cuda_diagnostics.cc:156] kernel driver does not appear to be running on this host (3196bd1c4dd6): /proc/driver/nvidia/version does not exist\n",
      "2023-02-07 01:40:56.856895: I tensorflow/core/platform/cpu_feature_guard.cc:142] This TensorFlow binary is optimized with oneAPI Deep Neural Network Library (oneDNN) to use the following CPU instructions in performance-critical operations:  AVX2 FMA\n",
      "To enable them in other operations, rebuild TensorFlow with the appropriate compiler flags.\n",
      "2023-02-07 01:40:56.858443: I tensorflow/compiler/jit/xla_gpu_device.cc:99] Not creating XLA devices, tf_xla_enable_xla_devices not set\n",
      "2023-02-07 01:40:56.864836: I tensorflow/compiler/jit/xla_gpu_device.cc:99] Not creating XLA devices, tf_xla_enable_xla_devices not set\n",
      "2023-02-07 01:40:56.895682: I tensorflow/core/distributed_runtime/rpc/grpc_channel.cc:301] Initialize GrpcChannelCache for job worker -> {0 -> 10.0.0.2:8470}\n",
      "2023-02-07 01:40:56.895743: I tensorflow/core/distributed_runtime/rpc/grpc_channel.cc:301] Initialize GrpcChannelCache for job localhost -> {0 -> localhost:30020}\n",
      "2023-02-07 01:40:56.913088: I tensorflow/core/distributed_runtime/rpc/grpc_channel.cc:301] Initialize GrpcChannelCache for job worker -> {0 -> 10.0.0.2:8470}\n",
      "2023-02-07 01:40:56.913169: I tensorflow/core/distributed_runtime/rpc/grpc_channel.cc:301] Initialize GrpcChannelCache for job localhost -> {0 -> localhost:30020}\n",
      "2023-02-07 01:40:56.914639: I tensorflow/core/distributed_runtime/rpc/grpc_server_lib.cc:411] Started server with target: grpc://localhost:30020\n"
     ]
    },
    {
     "name": "stdout",
     "output_type": "stream",
     "text": [
      "REPLICAS:  8\n"
     ]
    }
   ],
   "source": [
    "# Detect hardware, return appropriate distribution strategy\n",
    "print(tf.version.VERSION)\n",
    "tf.get_logger().setLevel(logging.ERROR)\n",
    "try: # detect TPU\n",
    "    tpu = None\n",
    "    tpu = tf.distribute.cluster_resolver.TPUClusterResolver()  # TPU detection\n",
    "    tf.config.experimental_connect_to_cluster(tpu)\n",
    "    tf.tpu.experimental.initialize_tpu_system(tpu)\n",
    "    strategy = tf.distribute.experimental.TPUStrategy(tpu)\n",
    "except ValueError: # detect GPU(s) and enable mixed precision\n",
    "    strategy = tf.distribute.MirroredStrategy() # works on GPU and multi-GPU\n",
    "    policy = tf.keras.mixed_precision.experimental.Policy('mixed_float16')\n",
    "    tf.config.optimizer.set_jit(True) # XLA compilation\n",
    "    tf.keras.mixed_precision.experimental.set_policy(policy)\n",
    "    print('Mixed precision enabled')\n",
    "print(\"REPLICAS: \", strategy.num_replicas_in_sync)"
   ]
  },
  {
   "cell_type": "code",
   "execution_count": 33,
   "metadata": {
    "execution": {
     "iopub.execute_input": "2023-02-07T01:41:02.249257Z",
     "iopub.status.busy": "2023-02-07T01:41:02.248956Z",
     "iopub.status.idle": "2023-02-07T01:41:02.256494Z",
     "shell.execute_reply": "2023-02-07T01:41:02.255622Z",
     "shell.execute_reply.started": "2023-02-07T01:41:02.249211Z"
    }
   },
   "outputs": [
    {
     "data": {
      "text/plain": [
       "1024"
      ]
     },
     "execution_count": 33,
     "metadata": {},
     "output_type": "execute_result"
    }
   ],
   "source": [
    "if tpu:\n",
    "    BATCH_SIZE = 128 * strategy.num_replicas_in_sync\n",
    "else:\n",
    "    BATCH_SIZE = 64 * strategy.num_replicas_in_sync\n",
    "BATCH_SIZE"
   ]
  },
  {
   "cell_type": "code",
   "execution_count": 34,
   "metadata": {
    "execution": {
     "iopub.execute_input": "2023-02-07T01:41:02.258952Z",
     "iopub.status.busy": "2023-02-07T01:41:02.258130Z",
     "iopub.status.idle": "2023-02-07T01:41:02.603658Z",
     "shell.execute_reply": "2023-02-07T01:41:02.602089Z",
     "shell.execute_reply.started": "2023-02-07T01:41:02.258889Z"
    }
   },
   "outputs": [
    {
     "data": {
      "text/plain": [
       "26750"
      ]
     },
     "execution_count": 34,
     "metadata": {},
     "output_type": "execute_result"
    }
   ],
   "source": [
    "gc.collect()"
   ]
  },
  {
   "cell_type": "code",
   "execution_count": 35,
   "metadata": {
    "execution": {
     "iopub.execute_input": "2023-02-07T01:41:02.606005Z",
     "iopub.status.busy": "2023-02-07T01:41:02.605718Z",
     "iopub.status.idle": "2023-02-07T01:41:04.290299Z",
     "shell.execute_reply": "2023-02-07T01:41:04.289098Z",
     "shell.execute_reply.started": "2023-02-07T01:41:02.605967Z"
    }
   },
   "outputs": [
    {
     "name": "stdout",
     "output_type": "stream",
     "text": [
      "Model: \"sequential\"\n",
      "_________________________________________________________________\n",
      "Layer (type)                 Output Shape              Param #   \n",
      "=================================================================\n",
      "embedding (Embedding)        (None, 150, 10)           210       \n",
      "_________________________________________________________________\n",
      "bidirectional (Bidirectional (None, 150, 64)           11008     \n",
      "_________________________________________________________________\n",
      "bidirectional_1 (Bidirection (None, 64)                24832     \n",
      "_________________________________________________________________\n",
      "dense (Dense)                (None, 20)                1300      \n",
      "=================================================================\n",
      "Total params: 37,350\n",
      "Trainable params: 37,350\n",
      "Non-trainable params: 0\n",
      "_________________________________________________________________\n"
     ]
    }
   ],
   "source": [
    "with strategy.scope():\n",
    "    model = tf.keras.Sequential([\n",
    "    tf.keras.layers.Embedding(21, 10, input_length=max_length),\n",
    "    tf.keras.layers.Bidirectional(tf.keras.layers.LSTM(32, dropout=0.1,return_sequences=True)),\n",
    "    tf.keras.layers.Bidirectional(tf.keras.layers.LSTM(32,dropout=0.1)),\n",
    "    tf.keras.layers.Dense(20, activation='softmax')])\n",
    "\n",
    "    model.compile(\n",
    "        loss=tf.keras.losses.CategoricalCrossentropy(),\n",
    "        optimizer=tf.keras.optimizers.Adam(lr=1e-3),\n",
    "        metrics=['accuracy'])\n",
    "\n",
    "model.summary()"
   ]
  },
  {
   "cell_type": "code",
   "execution_count": 36,
   "metadata": {
    "execution": {
     "iopub.execute_input": "2023-02-07T01:41:04.291951Z",
     "iopub.status.busy": "2023-02-07T01:41:04.291680Z",
     "iopub.status.idle": "2023-02-07T01:48:33.447176Z",
     "shell.execute_reply": "2023-02-07T01:48:33.446406Z",
     "shell.execute_reply.started": "2023-02-07T01:41:04.291920Z"
    }
   },
   "outputs": [
    {
     "name": "stdout",
     "output_type": "stream",
     "text": [
      "Epoch 1/20\n",
      "639/639 [==============================] - 39s 44ms/step - loss: 2.4880 - accuracy: 0.2958 - val_loss: 2.1980 - val_accuracy: 0.3346\n",
      "Epoch 2/20\n",
      "639/639 [==============================] - 21s 33ms/step - loss: 2.1173 - accuracy: 0.3600 - val_loss: 1.9092 - val_accuracy: 0.4266\n",
      "Epoch 3/20\n",
      "639/639 [==============================] - 21s 33ms/step - loss: 1.8960 - accuracy: 0.4327 - val_loss: 1.7131 - val_accuracy: 0.4941\n",
      "Epoch 4/20\n",
      "639/639 [==============================] - 21s 33ms/step - loss: 1.7268 - accuracy: 0.4901 - val_loss: 1.5457 - val_accuracy: 0.5529\n",
      "Epoch 5/20\n",
      "639/639 [==============================] - 22s 34ms/step - loss: 1.5987 - accuracy: 0.5344 - val_loss: 1.4299 - val_accuracy: 0.5932\n",
      "Epoch 6/20\n",
      "639/639 [==============================] - 21s 33ms/step - loss: 1.4818 - accuracy: 0.5754 - val_loss: 1.3214 - val_accuracy: 0.6302\n",
      "Epoch 7/20\n",
      "639/639 [==============================] - 21s 34ms/step - loss: 1.3833 - accuracy: 0.6070 - val_loss: 1.2388 - val_accuracy: 0.6557\n",
      "Epoch 8/20\n",
      "639/639 [==============================] - 22s 34ms/step - loss: 1.3003 - accuracy: 0.6332 - val_loss: 1.1619 - val_accuracy: 0.6785\n",
      "Epoch 9/20\n",
      "639/639 [==============================] - 21s 34ms/step - loss: 1.2281 - accuracy: 0.6570 - val_loss: 1.0952 - val_accuracy: 0.6992\n",
      "Epoch 10/20\n",
      "639/639 [==============================] - 21s 33ms/step - loss: 1.1683 - accuracy: 0.6750 - val_loss: 1.0428 - val_accuracy: 0.7149\n",
      "Epoch 11/20\n",
      "639/639 [==============================] - 21s 33ms/step - loss: 1.1188 - accuracy: 0.6913 - val_loss: 0.9926 - val_accuracy: 0.7313\n",
      "Epoch 12/20\n",
      "639/639 [==============================] - 22s 34ms/step - loss: 1.0683 - accuracy: 0.7056 - val_loss: 0.9572 - val_accuracy: 0.7416\n",
      "Epoch 13/20\n",
      "639/639 [==============================] - 21s 34ms/step - loss: 1.0284 - accuracy: 0.7184 - val_loss: 0.9150 - val_accuracy: 0.7541\n",
      "Epoch 14/20\n",
      "639/639 [==============================] - 21s 34ms/step - loss: 0.9842 - accuracy: 0.7308 - val_loss: 0.8747 - val_accuracy: 0.7641\n",
      "Epoch 15/20\n",
      "639/639 [==============================] - 21s 33ms/step - loss: 0.9563 - accuracy: 0.7402 - val_loss: 0.8489 - val_accuracy: 0.7724\n",
      "Epoch 16/20\n",
      "639/639 [==============================] - 21s 34ms/step - loss: 0.9218 - accuracy: 0.7496 - val_loss: 0.8186 - val_accuracy: 0.7817\n",
      "Epoch 17/20\n",
      "639/639 [==============================] - 22s 34ms/step - loss: 0.8936 - accuracy: 0.7580 - val_loss: 0.8013 - val_accuracy: 0.7859\n",
      "Epoch 18/20\n",
      "639/639 [==============================] - 21s 34ms/step - loss: 0.8683 - accuracy: 0.7658 - val_loss: 0.7779 - val_accuracy: 0.7920\n",
      "Epoch 19/20\n",
      "639/639 [==============================] - 21s 33ms/step - loss: 0.8443 - accuracy: 0.7726 - val_loss: 0.7496 - val_accuracy: 0.8007\n",
      "Epoch 20/20\n",
      "639/639 [==============================] - 21s 33ms/step - loss: 0.8199 - accuracy: 0.7791 - val_loss: 0.7254 - val_accuracy: 0.8072\n"
     ]
    }
   ],
   "source": [
    "es = EarlyStopping(monitor='val_accuracy',mode='max', patience=3, verbose=1)\n",
    "history = model.fit(train_pad, y_train,epochs=20, batch_size=1024,validation_data=(val_pad,y_val),callbacks=[es])"
   ]
  },
  {
   "cell_type": "code",
   "execution_count": 37,
   "metadata": {
    "execution": {
     "iopub.execute_input": "2023-02-07T01:48:33.448714Z",
     "iopub.status.busy": "2023-02-07T01:48:33.448473Z",
     "iopub.status.idle": "2023-02-07T01:48:33.454802Z",
     "shell.execute_reply": "2023-02-07T01:48:33.453833Z",
     "shell.execute_reply.started": "2023-02-07T01:48:33.448687Z"
    }
   },
   "outputs": [],
   "source": [
    "def plot_hist(hist):\n",
    "    plt.plot(hist.history[\"accuracy\"])\n",
    "    plt.plot(hist.history[\"val_accuracy\"])\n",
    "    plt.title(\"model accuracy\")\n",
    "    plt.ylabel(\"accuracy\")\n",
    "    plt.xlabel(\"epoch\")\n",
    "    plt.legend([\"train\", \"validation\"], loc=\"upper left\")\n",
    "    plt.savefig('loss.png')\n",
    "    plt.show()"
   ]
  },
  {
   "cell_type": "code",
   "execution_count": 38,
   "metadata": {
    "execution": {
     "iopub.execute_input": "2023-02-07T01:48:33.456754Z",
     "iopub.status.busy": "2023-02-07T01:48:33.456349Z",
     "iopub.status.idle": "2023-02-07T01:48:33.728649Z",
     "shell.execute_reply": "2023-02-07T01:48:33.727630Z",
     "shell.execute_reply.started": "2023-02-07T01:48:33.456723Z"
    }
   },
   "outputs": [
    {
     "data": {
      "image/png": "[encoded data removed]",
      "text/plain": [
       "<Figure size 432x288 with 1 Axes>"
      ]
     },
     "metadata": {
      "needs_background": "light"
     },
     "output_type": "display_data"
    }
   ],
   "source": [
    "plot_hist(history)"
   ]
  },
  {
   "cell_type": "markdown",
   "metadata": {},
   "source": [
    "# Evaluating Model on Validation Set"
   ]
  },
  {
   "cell_type": "code",
   "execution_count": 39,
   "metadata": {
    "execution": {
     "iopub.execute_input": "2023-02-07T01:48:33.730522Z",
     "iopub.status.busy": "2023-02-07T01:48:33.730245Z",
     "iopub.status.idle": "2023-02-07T01:48:33.736647Z",
     "shell.execute_reply": "2023-02-07T01:48:33.733805Z",
     "shell.execute_reply.started": "2023-02-07T01:48:33.730491Z"
    }
   },
   "outputs": [],
   "source": [
    "from sklearn.metrics import confusion_matrix, classification_report"
   ]
  },
  {
   "cell_type": "code",
   "execution_count": 40,
   "metadata": {
    "execution": {
     "iopub.execute_input": "2023-02-07T01:48:33.738662Z",
     "iopub.status.busy": "2023-02-07T01:48:33.737978Z",
     "iopub.status.idle": "2023-02-07T01:48:33.773556Z",
     "shell.execute_reply": "2023-02-07T01:48:33.772298Z",
     "shell.execute_reply.started": "2023-02-07T01:48:33.738627Z"
    }
   },
   "outputs": [
    {
     "ename": "NameError",
     "evalue": "name 'valid_labels' is not defined",
     "output_type": "error",
     "traceback": [
      "\u001b[0;31m---------------------------------------------------------------------------\u001b[0m",
      "\u001b[0;31mNameError\u001b[0m                                 Traceback (most recent call last)",
      "\u001b[0;32m/tmp/ipykernel_20/3735073803.py\u001b[0m in \u001b[0;36m<module>\u001b[0;34m\u001b[0m\n\u001b[0;32m----> 1\u001b[0;31m \u001b[0mlen\u001b[0m\u001b[0;34m(\u001b[0m\u001b[0mvalid_labels\u001b[0m\u001b[0;34m)\u001b[0m\u001b[0;34m\u001b[0m\u001b[0;34m\u001b[0m\u001b[0m\n\u001b[0m",
      "\u001b[0;31mNameError\u001b[0m: name 'valid_labels' is not defined"
     ]
    }
   ],
   "source": [
    "len(valid_labels)"
   ]
  },
  {
   "cell_type": "code",
   "execution_count": 41,
   "metadata": {
    "execution": {
     "iopub.execute_input": "2023-02-07T01:56:18.509646Z",
     "iopub.status.busy": "2023-02-07T01:56:18.508151Z",
     "iopub.status.idle": "2023-02-07T01:57:08.506955Z",
     "shell.execute_reply": "2023-02-07T01:57:08.505918Z",
     "shell.execute_reply.started": "2023-02-07T01:56:18.509573Z"
    }
   },
   "outputs": [
    {
     "name": "stdout",
     "output_type": "stream",
     "text": [
      "5106/5106 [==============================] - 43s 8ms/step\n",
      "              precision    recall  f1-score   support\n",
      "\n",
      "      class0       0.85      0.66      0.74      2126\n",
      "      class1       0.70      0.75      0.72      6833\n",
      "     class10       0.85      0.78      0.81      6747\n",
      "     class11       0.77      0.82      0.79     11839\n",
      "     class12       0.73      0.71      0.72      7259\n",
      "     class13       0.81      0.80      0.80      5746\n",
      "     class14       0.82      0.71      0.76      3404\n",
      "     class15       0.69      0.65      0.67      2503\n",
      "     class16       0.75      0.74      0.75      5355\n",
      "     class17       0.82      0.78      0.80      2842\n",
      "     class18       0.83      0.74      0.78      2457\n",
      "     class19       0.86      0.92      0.89     48283\n",
      "      class2       0.77      0.71      0.74      9933\n",
      "      class3       0.81      0.76      0.79      6170\n",
      "      class4       0.76      0.70      0.73      6184\n",
      "      class5       0.82      0.86      0.84      7219\n",
      "      class6       0.71      0.75      0.73      8971\n",
      "      class7       0.89      0.88      0.88      3808\n",
      "      class8       0.83      0.79      0.81      8744\n",
      "      class9       0.80      0.72      0.75      6967\n",
      "\n",
      "    accuracy                           0.81    163390\n",
      "   macro avg       0.79      0.76      0.78    163390\n",
      "weighted avg       0.81      0.81      0.81    163390\n",
      "\n"
     ]
    }
   ],
   "source": [
    "pred_valid_y = model.predict(val_pad,  verbose = True)\n",
    "pred_valid_y_labels = np.argmax(pred_valid_y, axis=-1)\n",
    "pred_valid_y_labels = le.inverse_transform(pred_valid_y_labels)[:163390]\n",
    "valid_labels=np.argmax(y_val, axis=-1)\n",
    "valid_labels=le.inverse_transform(valid_labels)\n",
    "print(classification_report(valid_labels, pred_valid_y_labels ))"
   ]
  },
  {
   "cell_type": "code",
   "execution_count": 42,
   "metadata": {
    "execution": {
     "iopub.execute_input": "2023-02-07T01:57:38.945766Z",
     "iopub.status.busy": "2023-02-07T01:57:38.945418Z",
     "iopub.status.idle": "2023-02-07T01:57:39.625880Z",
     "shell.execute_reply": "2023-02-07T01:57:39.624375Z",
     "shell.execute_reply.started": "2023-02-07T01:57:38.945730Z"
    }
   },
   "outputs": [
    {
     "name": "stdout",
     "output_type": "stream",
     "text": [
      "[[ 1410    64    62    64    37    13    12     9    13    13     9   167\n",
      "     41    21    25    17    54     2    34    59]\n",
      " [   13  5093    49   181    76    52    28    26    44    65    25   391\n",
      "    147    55    74    80   252    11    56   115]\n",
      " [   43   145  5232   120    55    62    19    21    30    18    66   315\n",
      "     66    36    72    38   223    14   124    48]\n",
      " [    6   156    55  9745   141    81    45    43    47    36    44   543\n",
      "    206    93    89   132   171    15   117    74]\n",
      " [    6    80     9   202  5174    76    37    44   102    14     4   813\n",
      "    176    81    63   102    74    77    77    48]\n",
      " [    9    71    46   104   106  4592    19     7    25    14    12   351\n",
      "     82    34    37    24    82    54    49    28]\n",
      " [   10    50    27    86    46    29  2423    38    28    15     6   238\n",
      "     68    27    78    31    93     1    38    72]\n",
      " [    2    45    15    84    37    12    16  1616    63    36    23   168\n",
      "     65    35    40    60   106     7    28    45]\n",
      " [    5    47    25   103   119    35    17    42  3976    12     4   379\n",
      "     95    79    47    75   147    32    69    47]\n",
      " [    1    83    27    73    16    24     8    31     7  2217    10    70\n",
      "     34    14    40    72    74     2    16    23]\n",
      " [    1    39   106   105     7    41     3    16    17     8  1824    94\n",
      "     18     2    27    10    86     2    31    20]\n",
      " [   31   303   110   477   463   197    80    73   286    23    33 44328\n",
      "    373   176   180   216   376    88   304   166]\n",
      " [   38   227    55   334   218    79    49    68   105    30    20   904\n",
      "   7011    70   136   139   212    22   136    80]\n",
      " [   12    59    15   144   110    51    16    50   125    33    10   351\n",
      "    112  4692    58    39   123    32    54    84]\n",
      " [    6   171    44   158   105    54    41    34   109    44     9   362\n",
      "    164    57  4348   115   180     4    67   112]\n",
      " [   11    72     9   101    68    19    27    32    38    19     5   256\n",
      "     97    13    63  6233    67     7    35    47]\n",
      " [   16   217    82   227    92    79    29    95   145    33    35   550\n",
      "    115    93   145    57  6734    12   112   103]\n",
      " [    4    25    14    19    34    36     5     5    39     1     4   119\n",
      "     17    20    12    30    26  3349    20    29]\n",
      " [   14    84    97   176   109    79    28    42    57    32    33   485\n",
      "    155    65    90    75   149    11  6900    63]\n",
      " [   25   230    47   200    65    57    35    47    56    36    18   414\n",
      "    100   118   122    65   244    34    70  4984]]\n"
     ]
    }
   ],
   "source": [
    "print(confusion_matrix(valid_labels, pred_valid_y_labels ))"
   ]
  },
  {
   "cell_type": "markdown",
   "metadata": {},
   "source": [
    "<p style='font-size:25px;font-weight:bold'>Please If you find this kernel helpful, upvote it to help others see it 😊</p>"
   ]
  }
 ],
 "metadata": {
  "kernelspec": {
   "display_name": "Python 3 (ipykernel)",
   "language": "python",
   "name": "python3"
  },
  "language_info": {
   "codemirror_mode": {
    "name": "ipython",
    "version": 3
   },
   "file_extension": ".py",
   "mimetype": "text/x-python",
   "name": "python",
   "nbconvert_exporter": "python",
   "pygments_lexer": "ipython3",
   "version": "3.10.8"
  }
 },
 "nbformat": 4,
 "nbformat_minor": 4
}
